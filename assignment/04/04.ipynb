{
 "cells": [
  {
   "cell_type": "code",
   "execution_count": 1,
   "metadata": {},
   "outputs": [],
   "source": [
    "import matplotlib.pyplot as plt\n",
    "import math\n",
    "import numpy as np\n",
    "import random\n",
    "import torch\n",
    "from torch.utils.data import Dataset, DataLoader\n",
    "import torchvision.transforms as transforms\n",
    "import torchvision\n",
    "import os\n",
    "from random import *"
   ]
  },
  {
   "cell_type": "code",
   "execution_count": 2,
   "metadata": {},
   "outputs": [
    {
     "name": "stdout",
     "output_type": "stream",
     "text": [
      "Train datas\n"
     ]
    }
   ],
   "source": [
    "import csv\n",
    "\n",
    "trainData = []\n",
    "testData = []\n",
    "\n",
    "with open('data_train.csv', newline='') as myfile:\n",
    "    reader  = csv.reader(myfile, delimiter=',')\n",
    "    ct = 1 \n",
    "    print(\"Train datas\")\n",
    "    for i in reader:\n",
    "        #print('[', ct,']', 'x =', i[0], ', y = ', i[1], ', z = ', i[2], ', h = ', i[3])\n",
    "        trainData.append( [ float(i[0]), float(i[1]),float(i[2]),float(i[3]) ] )\n",
    "        # x = i[0] y = i[1] z = i[2] h = i[3]\n",
    "        ct += 1\n",
    "\n",
    "with open('data_test.csv', newline='') as myfile:\n",
    "    reader  = csv.reader(myfile, delimiter=',')\n",
    "    ct = 1 \n",
    "    for i in reader:\n",
    "        #print('[', ct, ']', 'x =', i[0], ', y = ', i[1], ', z = ', i[2], ', h = ', i[3])\n",
    "        testData.append([ float(i[0]) , float(i[1]),float(i[2]),float(i[3])])\n",
    "        ct += 1\n"
   ]
  },
  {
   "cell_type": "code",
   "execution_count": null,
   "metadata": {},
   "outputs": [],
   "source": []
  },
  {
   "cell_type": "code",
   "execution_count": 3,
   "metadata": {},
   "outputs": [],
   "source": [
    "\n",
    "\n",
    "def get_y(ths,params) :\n",
    "    return ths[0] + ths[1]*params[0]+ ths[2]*params[1] + ths[3]*params[2]\n",
    "\n",
    "# Generate X, Y values\n",
    "train_x = []\n",
    "train_y = []\n",
    "train_z = []\n",
    "train_yh = []\n",
    "\n",
    "# Derived in trainData\n",
    "for i in trainData :\n",
    "    train_x.append(i[0])\n",
    "    train_y.append(i[1])\n",
    "    train_z.append(i[2])\n",
    "    train_yh.append(i[3])\n",
    "test_x = []\n",
    "test_y = []\n",
    "test_z = []\n",
    "test_yh = []\n",
    "for i in testData :\n",
    "    test_x.append(i[0])\n",
    "    test_y.append(i[1])\n",
    "    test_z.append(i[2])\n",
    "    test_yh.append(i[3])"
   ]
  },
  {
   "cell_type": "code",
   "execution_count": 4,
   "metadata": {},
   "outputs": [],
   "source": [
    "train_x = torch.FloatTensor(train_x)\n",
    "train_y = torch.FloatTensor(train_y)\n",
    "train_z = torch.FloatTensor(train_z)\n",
    "train_h = torch.FloatTensor(train_yh)\n",
    "\n",
    "test_x = torch.FloatTensor(test_x)\n",
    "test_y = torch.FloatTensor(test_y)\n",
    "test_z = torch.FloatTensor(test_z)\n",
    "test_h = torch.FloatTensor(test_yh)\n",
    "\n"
   ]
  },
  {
   "cell_type": "code",
   "execution_count": 5,
   "metadata": {},
   "outputs": [
    {
     "name": "stdout",
     "output_type": "stream",
     "text": [
      "Loss is converged\n",
      "epoch 23969, th0 0.86621, th1 0.79049, th2 -1.797193, th3 4.002856, loss 103.9825515747\n"
     ]
    }
   ],
   "source": [
    "# Initialize thetas for hypothesis\n",
    "th0 = torch.FloatTensor([1.0])\n",
    "th1 = torch.FloatTensor([1.0])\n",
    "th2 = torch.FloatTensor([1.0])\n",
    "th3 = torch.FloatTensor([1.0])\n",
    "\n",
    "# Setting Step-size. (Learning-rate)\n",
    "lr = 0.00001\n",
    "\n",
    "\n",
    "# Setting converge value\n",
    "loss_conv = 1e-8 # loss converge standard\n",
    "\n",
    "# Lists for logging\n",
    "loss_log = []\n",
    "th0_log = []\n",
    "th1_log = []\n",
    "th2_log = []\n",
    "th3_log = []\n",
    "epoch_log = []\n",
    "conv_count = 0 # Variable To count converge\n",
    "epoch = 0 # Inital epoch value\n",
    "flag = True\n",
    "\n",
    "test_loss_log = []\n",
    "\n",
    "\n",
    "while (True) :\n",
    "    epoch +=1\n",
    "    epoch_log.append(epoch)\n",
    "    \n",
    "    ## Training data\n",
    "    # Get y hat value\n",
    "    yh = th0 + th1*train_x+th2*train_y + th3*train_z\n",
    "    m = len(yh)\n",
    "    \n",
    "    # Get Energy(Loss) value \n",
    "    loss = (1/(2*m)) * torch.sum((yh - train_h)**2)\n",
    "    # Logging Status\n",
    "    loss_log.append(loss)\n",
    "    th0_log.append(th0)\n",
    "    th1_log.append(th1)\n",
    "    th2_log.append(th2)\n",
    "    th3_log.append(th3)\n",
    "    \n",
    "\n",
    "    ## Testing data\n",
    "    \n",
    "    # Get Test yh\n",
    "    test_yh = th0 + th1*test_x + th2*test_y + th3*test_z\n",
    "    \n",
    "    # Get Test loss\n",
    "    test_m = len(test_yh)\n",
    "    test_loss = (1/(2*test_m)) * torch.sum((test_yh - test_h)**2)\n",
    "    test_loss_log.append(test_loss)\n",
    "    \n",
    "    \n",
    "    \n",
    "    # Updating Parameters - Gradient Descent\n",
    "    th0 = th0 - lr * (1/m) * torch.sum((yh-train_h))\n",
    "    th1 = th1 - lr * (1/m) * torch.sum((yh-train_h)*train_x)\n",
    "    th2 = th2 - lr * (1/m) * torch.sum((yh-train_h)*train_y)\n",
    "    th3 = th3 - lr * (1/m) * torch.sum((yh-train_h)*train_z)\n",
    "    \n",
    "    \n",
    "    # Check Loss value converge\n",
    "    if len(loss_log) > 2 :\n",
    "        if abs(loss_log[-1] - loss_log[-2]) < loss_conv :\n",
    "            conv_count += 1\n",
    "        else :\n",
    "            conv_count = 0\n",
    "    # For monitor\n",
    "    '''\n",
    "    if epoch %1000 == 0 :\n",
    "        print(\"epoch {}, th0 {:.5f}, th1 {:.5f}, th2 {:5f}, th3 {:5f}, loss {:.10f}\".format(epoch,th0.item(),th1.item(),th2.item(),th3.item(),loss_log[-1]))\n",
    "    '''     \n",
    "    if conv_count > 3 :\n",
    "        print(\"Loss is converged\")\n",
    "        print(\"epoch {}, th0 {:.5f}, th1 {:.5f}, th2 {:5f}, th3 {:5f}, loss {:.10f}\".format(epoch,th0.item(),th1.item(),th2.item(),th3.item(),loss_log[-1]))\n",
    "                                                         \n",
    "        break\n",
    "\n"
   ]
  },
  {
   "cell_type": "code",
   "execution_count": 6,
   "metadata": {},
   "outputs": [
    {
     "data": {
      "image/png": "[encoded data removed]",
      "text/plain": [
       "<Figure size 432x288 with 1 Axes>"
      ]
     },
     "metadata": {
      "needs_background": "light"
     },
     "output_type": "display_data"
    },
    {
     "name": "stdout",
     "output_type": "stream",
     "text": [
      "th0: 0.8662112355232239 \n",
      "th1: 0.790483295917511 \n",
      "th2: -1.7971913814544678 \n",
      "th3: 4.002856731414795\n"
     ]
    }
   ],
   "source": [
    "# Output results\n",
    "plot0, = plt.plot(epoch_log,th0_log, color='black',linewidth=2,alpha=0.8)\n",
    "plot1, = plt.plot(epoch_log,th1_log, color='red',linewidth=2,alpha=0.8)\n",
    "plot2, = plt.plot(epoch_log,th2_log, color='green',linewidth=2,alpha=0.8)\n",
    "plot3, = plt.plot(epoch_log,th3_log, color='blue',linewidth=2,alpha=0.8)\n",
    "\n",
    "plt.title(\"th0\") \n",
    "plt.legend([plot0,plot1,plot2,plot3],[\"th0\",\"th1\",'th2','th3'])\n",
    "plt.show()\n",
    "\n",
    "\n",
    "print(\"th0:\",th0_log[-1].item(),\"\\nth1:\",th1_log[-1].item(),\"\\nth2:\",th2_log[-1].item(),\"\\nth3:\",th3_log[-1].item())"
   ]
  },
  {
   "cell_type": "code",
   "execution_count": 7,
   "metadata": {},
   "outputs": [
    {
     "name": "stdout",
     "output_type": "stream",
     "text": [
      "103.98255157470703\n"
     ]
    },
    {
     "data": {
      "image/png": "[encoded data removed]",
      "text/plain": [
       "<Figure size 432x288 with 1 Axes>"
      ]
     },
     "metadata": {
      "needs_background": "light"
     },
     "output_type": "display_data"
    }
   ],
   "source": [
    "# 2. Plot the training error using the training dataset\n",
    "plt.title(\"Training error\")\n",
    "plot, = plt.plot(epoch_log,loss_log, color='blue',linewidth=2,alpha=0.8)\n",
    "print(loss_log[-1].item())"
   ]
  },
  {
   "cell_type": "code",
   "execution_count": 8,
   "metadata": {
    "scrolled": false
   },
   "outputs": [
    {
     "name": "stdout",
     "output_type": "stream",
     "text": [
      "0.9118922352790833\n"
     ]
    },
    {
     "data": {
      "image/png": "[encoded data removed]",
      "text/plain": [
       "<Figure size 432x288 with 1 Axes>"
      ]
     },
     "metadata": {
      "needs_background": "light"
     },
     "output_type": "display_data"
    }
   ],
   "source": [
    "# 3. Plot the testing error at every iteration of gradient descent until convergence\n",
    "plt.title(\"Testing error\")\n",
    "plot, = plt.plot(epoch_log,test_loss_log, color='red',linewidth=2,alpha=0.8)\n",
    "print(test_loss_log[-1].item())"
   ]
  },
  {
   "cell_type": "code",
   "execution_count": 9,
   "metadata": {},
   "outputs": [
    {
     "name": "stdout",
     "output_type": "stream",
     "text": [
      "103.98255157470703\n",
      "0.9118922352790833\n"
     ]
    },
    {
     "data": {
      "image/png": "[encoded data removed]",
      "text/plain": [
       "<Figure size 432x288 with 1 Axes>"
      ]
     },
     "metadata": {
      "needs_background": "light"
     },
     "output_type": "display_data"
    }
   ],
   "source": [
    "### Extra\n",
    "\n",
    "plt.title(\"Training error & Testing error\")\n",
    "plot, = plt.plot(epoch_log,loss_log, color='blue',linewidth=2,alpha=0.8)\n",
    "plot, = plt.plot(epoch_log,test_loss_log, color='red',linewidth=2,alpha=0.8)\n",
    "print(loss_log[-1].item())\n",
    "print(test_loss_log[-1].item())"
   ]
  }
 ],
 "metadata": {
  "kernelspec": {
   "display_name": "Python 3",
   "language": "python",
   "name": "python3"
  },
  "language_info": {
   "codemirror_mode": {
    "name": "ipython",
    "version": 3
   },
   "file_extension": ".py",
   "mimetype": "text/x-python",
   "name": "python",
   "nbconvert_exporter": "python",
   "pygments_lexer": "ipython3",
   "version": "3.6.9"
  }
 },
 "nbformat": 4,
 "nbformat_minor": 4
}

{
 "cells": [
  {
   "cell_type": "code",
   "execution_count": 122,
   "metadata": {},
   "outputs": [],
   "source": [
    "# Writer : JESOON KANG, Dept. of Computer Science & Engineering in Chung-Ang University\n",
    "# Last-Modified Date : April 23,2020"
   ]
  },
  {
   "cell_type": "code",
   "execution_count": 123,
   "metadata": {},
   "outputs": [],
   "source": [
    "import matplotlib.pyplot as plt\n",
    "import math\n",
    "import numpy as np\n",
    "import random\n",
    "import torch\n",
    "from torch.utils.data import Dataset, DataLoader\n",
    "import torchvision.transforms as transforms\n",
    "import torchvision\n",
    "import os\n",
    "import time\n",
    "import datetime\n",
    "from random import *"
   ]
  },
  {
   "cell_type": "code",
   "execution_count": 124,
   "metadata": {},
   "outputs": [
    {
     "name": "stdout",
     "output_type": "stream",
     "text": [
      "Using device: cuda\n",
      "\n",
      "GeForce RTX 2060 SUPER\n",
      "Memory Usage:\n",
      "Allocated: 0.0 GB\n",
      "Cached:    0.0 GB\n"
     ]
    }
   ],
   "source": [
    "### Setting up Device\n",
    "device = torch.device('cuda' if torch.cuda.is_available() else 'cpu')\n",
    "# Below codes activates when want to use cpu\n",
    "#device = torch.device('cpu')\n",
    "print('Using device:', device)\n",
    "print()\n",
    "\n",
    "#Additional Info when using cuda\n",
    "if device.type == 'cuda':\n",
    "    print(torch.cuda.get_device_name(0))\n",
    "    print('Memory Usage:')\n",
    "    print('Allocated:', round(torch.cuda.memory_allocated(0)/1024**3,1), 'GB')\n",
    "    print('Cached:   ', round(torch.cuda.memory_cached(0)/1024**3,1), 'GB')"
   ]
  },
  {
   "cell_type": "code",
   "execution_count": 125,
   "metadata": {},
   "outputs": [
    {
     "data": {
      "image/png": "[encoded data removed]",
      "text/plain": [
       "<Figure size 576x576 with 1 Axes>"
      ]
     },
     "metadata": {
      "needs_background": "light"
     },
     "output_type": "display_data"
    }
   ],
   "source": [
    "# Plot the training data\n",
    "import numpy as np\n",
    "import matplotlib.pyplot as plt\n",
    "\n",
    "data    = np.genfromtxt(\"data-nonlinear.txt\", delimiter=',')\n",
    "\n",
    "x       = data[:, 0]\n",
    "y       = data[:, 1]\n",
    "label   = data[:, 2]\n",
    "\n",
    "x_label0    = x[label == 0]\n",
    "y_label0    = y[label == 0]\n",
    "\n",
    "x_label1    = x[label == 1]\n",
    "y_label1    = y[label == 1]\n",
    "\n",
    "plt.figure(figsize=(8, 8))\n",
    "plt.scatter(x_label0, y_label0, alpha=0.9, c='b')\n",
    "plt.scatter(x_label1, y_label1, alpha=0.9, c='r')\n",
    "plt.show()"
   ]
  },
  {
   "cell_type": "code",
   "execution_count": 126,
   "metadata": {},
   "outputs": [],
   "source": [
    "x = torch.DoubleTensor(x).to('cuda')\n",
    "y = torch.DoubleTensor(y).to('cuda')\n",
    "label = torch.DoubleTensor(label).to('cuda')\n",
    "x = x.unsqueeze(1)\n",
    "y = y.unsqueeze(1)\n",
    "label = label.unsqueeze(1)"
   ]
  },
  {
   "cell_type": "code",
   "execution_count": null,
   "metadata": {},
   "outputs": [],
   "source": []
  },
  {
   "cell_type": "code",
   "execution_count": 127,
   "metadata": {},
   "outputs": [
    {
     "name": "stdout",
     "output_type": "stream",
     "text": [
      "0.000000\n"
     ]
    }
   ],
   "source": [
    "test = torch.DoubleTensor([1e-7])\n",
    "print(\"{:f}\".format(test.item()))"
   ]
  },
  {
   "cell_type": "code",
   "execution_count": 128,
   "metadata": {},
   "outputs": [],
   "source": [
    "def show_graph (thetas) :\n",
    "    thetas_len = len(thetas)\n",
    "    \n",
    "    mesh_x = torch.linspace(-2,2,256,dtype=torch.double).to('cuda')\n",
    "    mesh_y = torch.linspace(-2,2,256,dtype=torch.double).to('cuda')\n",
    "    XX, YY = torch.meshgrid(mesh_x,mesh_y)\n",
    "    if thetas_len == 10 :\n",
    "        ZZ = get_function_3(XX,YY)\n",
    "    elif thetas_len == 16 :\n",
    "        ZZ = get_function_4(XX,YY)\n",
    "\n",
    "    ZZ = torch.reshape(ZZ,(thetas_len,65536))\n",
    "    ZZ = torch.matmul(thetas.T,ZZ)\n",
    "    ZZ = torch.reshape(ZZ,(256,256))\n",
    "    yh = 1 / (1 + torch.exp(-ZZ))\n",
    "    plt.figure(figsize=(6, 6))\n",
    "    plt.scatter(x_label0, y_label0, alpha=0.9, c='b')\n",
    "    plt.scatter(x_label1, y_label1, alpha=0.9, c='r')\n",
    "    plt.contour(XX.cpu(), YY.cpu(), yh.cpu(), levels= [0.5])\n",
    "    plt.show()\n",
    "    \n",
    "def get_running_time(start_time) :\n",
    "    running_time = datetime.datetime.now() - start_time\n",
    "    running_time = running_time.seconds\n",
    "    hours, remainder = divmod(running_time, 3600)\n",
    "    minutes, seconds = divmod(remainder, 60)\n",
    "    return hours, minutes, seconds"
   ]
  },
  {
   "cell_type": "code",
   "execution_count": 139,
   "metadata": {},
   "outputs": [],
   "source": [
    "def get_function_4(x,y) :\n",
    "    constant = torch.ones(x.shape,dtype=torch.float64).to('cuda')\n",
    "    ret = torch.stack((constant,x,y,\\\n",
    "                       x*y,x**2,y**2,\\\n",
    "                       x**2*y, x*y**2,x**3,y**3,\\\n",
    "                       x**3*y, x*y**3,\\\n",
    "                       x**3*y**2,x**2*y**3,\\\n",
    "                       x**3*y**3,x**5*y**5\\\n",
    "                      ))\n",
    "    ret = ret.squeeze(-1)\n",
    "    return ret\n"
   ]
  },
  {
   "cell_type": "code",
   "execution_count": 130,
   "metadata": {
    "scrolled": true
   },
   "outputs": [
    {
     "ename": "KeyboardInterrupt",
     "evalue": "",
     "output_type": "error",
     "traceback": [
      "\u001b[0;31m---------------------------------------------------------------------------\u001b[0m",
      "\u001b[0;31mKeyboardInterrupt\u001b[0m                         Traceback (most recent call last)",
      "\u001b[0;32m<ipython-input-130-e018c2218437>\u001b[0m in \u001b[0;36m<module>\u001b[0;34m\u001b[0m\n\u001b[1;32m     33\u001b[0m     \u001b[0;31m# Updating Parameters - Gradient Descent\u001b[0m\u001b[0;34m\u001b[0m\u001b[0;34m\u001b[0m\u001b[0;34m\u001b[0m\u001b[0m\n\u001b[1;32m     34\u001b[0m     \u001b[0mthetas\u001b[0m\u001b[0;34m[\u001b[0m\u001b[0;36m0\u001b[0m\u001b[0;34m]\u001b[0m \u001b[0;34m-=\u001b[0m \u001b[0mlr\u001b[0m \u001b[0;34m*\u001b[0m \u001b[0;34m(\u001b[0m\u001b[0;36m1\u001b[0m\u001b[0;34m/\u001b[0m\u001b[0mm\u001b[0m\u001b[0;34m)\u001b[0m \u001b[0;34m*\u001b[0m \u001b[0mtorch\u001b[0m\u001b[0;34m.\u001b[0m\u001b[0msum\u001b[0m\u001b[0;34m(\u001b[0m\u001b[0mactiv_values\u001b[0m\u001b[0;34m-\u001b[0m\u001b[0mlabel\u001b[0m\u001b[0;34m)\u001b[0m\u001b[0;34m\u001b[0m\u001b[0;34m\u001b[0m\u001b[0m\n\u001b[0;32m---> 35\u001b[0;31m     \u001b[0mthetas\u001b[0m\u001b[0;34m[\u001b[0m\u001b[0;36m1\u001b[0m\u001b[0;34m]\u001b[0m \u001b[0;34m-=\u001b[0m \u001b[0mlr\u001b[0m \u001b[0;34m*\u001b[0m \u001b[0;34m(\u001b[0m\u001b[0;36m1\u001b[0m\u001b[0;34m/\u001b[0m\u001b[0mm\u001b[0m\u001b[0;34m)\u001b[0m \u001b[0;34m*\u001b[0m \u001b[0mtorch\u001b[0m\u001b[0;34m.\u001b[0m\u001b[0msum\u001b[0m\u001b[0;34m(\u001b[0m \u001b[0;34m(\u001b[0m\u001b[0mactiv_values\u001b[0m\u001b[0;34m-\u001b[0m\u001b[0mlabel\u001b[0m\u001b[0;34m)\u001b[0m\u001b[0;34m*\u001b[0m \u001b[0mx\u001b[0m\u001b[0;34m)\u001b[0m\u001b[0;34m\u001b[0m\u001b[0;34m\u001b[0m\u001b[0m\n\u001b[0m\u001b[1;32m     36\u001b[0m     \u001b[0mthetas\u001b[0m\u001b[0;34m[\u001b[0m\u001b[0;36m2\u001b[0m\u001b[0;34m]\u001b[0m \u001b[0;34m-=\u001b[0m \u001b[0mlr\u001b[0m \u001b[0;34m*\u001b[0m \u001b[0;34m(\u001b[0m\u001b[0;36m1\u001b[0m\u001b[0;34m/\u001b[0m\u001b[0mm\u001b[0m\u001b[0;34m)\u001b[0m \u001b[0;34m*\u001b[0m \u001b[0mtorch\u001b[0m\u001b[0;34m.\u001b[0m\u001b[0msum\u001b[0m\u001b[0;34m(\u001b[0m \u001b[0;34m(\u001b[0m\u001b[0mactiv_values\u001b[0m\u001b[0;34m-\u001b[0m\u001b[0mlabel\u001b[0m\u001b[0;34m)\u001b[0m\u001b[0;34m*\u001b[0m \u001b[0my\u001b[0m\u001b[0;34m)\u001b[0m\u001b[0;34m\u001b[0m\u001b[0;34m\u001b[0m\u001b[0m\n\u001b[1;32m     37\u001b[0m     \u001b[0mthetas\u001b[0m\u001b[0;34m[\u001b[0m\u001b[0;36m3\u001b[0m\u001b[0;34m]\u001b[0m \u001b[0;34m-=\u001b[0m \u001b[0mlr\u001b[0m \u001b[0;34m*\u001b[0m \u001b[0;34m(\u001b[0m\u001b[0;36m1\u001b[0m\u001b[0;34m/\u001b[0m\u001b[0mm\u001b[0m\u001b[0;34m)\u001b[0m \u001b[0;34m*\u001b[0m \u001b[0mtorch\u001b[0m\u001b[0;34m.\u001b[0m\u001b[0msum\u001b[0m\u001b[0;34m(\u001b[0m \u001b[0;34m(\u001b[0m\u001b[0mactiv_values\u001b[0m\u001b[0;34m-\u001b[0m\u001b[0mlabel\u001b[0m\u001b[0;34m)\u001b[0m\u001b[0;34m*\u001b[0m \u001b[0mx\u001b[0m\u001b[0;34m*\u001b[0m\u001b[0my\u001b[0m\u001b[0;34m)\u001b[0m\u001b[0;34m\u001b[0m\u001b[0;34m\u001b[0m\u001b[0m\n",
      "\u001b[0;31mKeyboardInterrupt\u001b[0m: "
     ]
    }
   ],
   "source": [
    "\n",
    "# Setting Step-size. (Learning-rate)\n",
    "lr = 1e-3\n",
    "lr = torch.DoubleTensor([lr]).to('cuda')\n",
    "\n",
    "# Setting converge value\n",
    "loss_conv = 5e-9 # loss converge standard\n",
    "\n",
    "# Lists for logging\n",
    "loss_log = []\n",
    "epoch_log = []\n",
    "acc_log = []\n",
    "conv_count = 0 # Variable To count converge\n",
    "epoch = 0 # Inital epoch value\n",
    "\n",
    "thetas = torch.ones((16,1),dtype=torch.float64).to('cuda') \n",
    "fx = get_function_4(x,y)\n",
    "\n",
    "start_time = datetime.datetime.now()\n",
    "while (True) :\n",
    "    epoch +=1\n",
    "    epoch_log.append(epoch)\n",
    "    z = torch.matmul(thetas.T,fx)\n",
    "    z = z.T\n",
    "    activ_values = 1 / (1+torch.exp(-z))\n",
    "    m = len(activ_values)\n",
    "    \n",
    "    # Get Loss \n",
    "    loss = (1/m) * torch.sum( \\\n",
    "                             -label*torch.log(activ_values) - (1-label)*torch.log(1 - activ_values))\n",
    "    # Logging\n",
    "    loss_log.append(loss)\n",
    "    \n",
    "    # Updating Parameters - Gradient Descent\n",
    "    thetas[0] -= lr * (1/m) * torch.sum(activ_values-label)\n",
    "    thetas[1] -= lr * (1/m) * torch.sum( (activ_values-label)* x)\n",
    "    thetas[2] -= lr * (1/m) * torch.sum( (activ_values-label)* y)\n",
    "    thetas[3] -= lr * (1/m) * torch.sum( (activ_values-label)* x*y)\n",
    "    thetas[4] -= lr * (1/m) * torch.sum( (activ_values-label)* x**2)\n",
    "    thetas[5] -= lr * (1/m) * torch.sum( (activ_values-label)* y**2)\n",
    "    thetas[6] -= lr * (1/m) * torch.sum( (activ_values-label)* x**2*y)\n",
    "    thetas[7] -= lr * (1/m) * torch.sum( (activ_values-label)* x*y**2)\n",
    "    thetas[8] -= lr * (1/m) * torch.sum( (activ_values-label)* x**3)\n",
    "    thetas[9] -= lr * (1/m) * torch.sum( (activ_values-label)* y**3)\n",
    "    thetas[10] -= lr * (1/m) * torch.sum( (activ_values-label)* x**3*y)\n",
    "    thetas[11] -= lr * (1/m) * torch.sum( (activ_values-label)* x*y**3)\n",
    "    thetas[12] -= lr * (1/m) * torch.sum( (activ_values-label)* x**3*y**2)\n",
    "    thetas[13] -= lr * (1/m) * torch.sum( (activ_values-label)* x**2*y**3)\n",
    "    thetas[14] -= lr * (1/m) * torch.sum( (activ_values-label)* x**3*y**3)\n",
    "    thetas[15] -= lr * (1/m) * torch.sum( (activ_values-label)* y**5*y**5)\n",
    "    \n",
    "\n",
    "    ## Does Train Loss Converged?\n",
    "    if len(loss_log) > 2 :\n",
    "        if abs(loss_log[-1] - loss_log[-2]) < loss_conv :\n",
    "            conv_count += 1\n",
    "        else :\n",
    "            conv_count = 0\n",
    "    \n",
    "    # For monitor\n",
    "    if epoch %100000 == 0 :\n",
    "        acc = 0\n",
    "        for i in range(0,len(activ_values)) :\n",
    "            if activ_values[i] >= 0.5 :\n",
    "                if label[i] == 1 :\n",
    "                    acc += 1\n",
    "            else :\n",
    "                if label[i] == 0 :\n",
    "                    acc += 1\n",
    "        acc = acc / len(activ_values)\n",
    "        acc_log.append(acc)\n",
    "        \n",
    "        running_time = get_running_time(start_time)\n",
    "        \n",
    "        print(\"lr : {}, epoch {},loss {:.10f}, acc {:.3f}, time : {:02d}:{:02d}:{:02d}\".\\\n",
    "              format(lr.item(), epoch,loss_log[-1],acc_log[-1],running_time[0],running_time[1],running_time[2]) )\n",
    "        #show_graph(thetas)\n",
    "    ## Escape if Training loss is converged\n",
    "    if conv_count > 4 :\n",
    "\n",
    "        print(\"Loss is converged\")\n",
    "        print(\"#\"*30)\n",
    "        running_time = get_running_time(start_time)\n",
    "\n",
    "        print(\"lr : {}, epoch {},loss {:.10f}, acc {:.3f}, time : {:02d}:{:02d}:{:02d}\".\\\n",
    "              format(lr.item(), epoch,loss_log[-1],acc_log[-1],running_time[0],running_time[1],running_time[2]) )               \n",
    "        print(\"#\"*30)\n",
    "        \n",
    "        break"
   ]
  }
 ],
 "metadata": {
  "kernelspec": {
   "display_name": "Python 3",
   "language": "python",
   "name": "python3"
  },
  "language_info": {
   "codemirror_mode": {
    "name": "ipython",
    "version": 3
   },
   "file_extension": ".py",
   "mimetype": "text/x-python",
   "name": "python",
   "nbconvert_exporter": "python",
   "pygments_lexer": "ipython3",
   "version": "3.6.9"
  }
 },
 "nbformat": 4,
 "nbformat_minor": 4
}

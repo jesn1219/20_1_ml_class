{
 "cells": [
  {
   "cell_type": "markdown",
   "metadata": {},
   "source": [
    "* Writer : Jesoon Kang, Chung-Ang University\n",
    "* last-modified date : May 28, 2020"
   ]
  },
  {
   "cell_type": "code",
   "execution_count": 1,
   "metadata": {},
   "outputs": [],
   "source": [
    "import matplotlib.pyplot as plt\n",
    "import numpy as np\n",
    "import torch\n",
    "import torchvision\n",
    "import math\n",
    "from IPython.display import display, Math, Latex\n",
    "import os\n",
    "import time\n",
    "import datetime\n",
    "\n",
    "\n",
    "file_data   = \"mnist.csv\"\n",
    "handle_file = open(file_data, \"r\")\n",
    "data        = handle_file.readlines()\n",
    "handle_file.close()\n",
    "\n",
    "size_row    = 28    # height of the image\n",
    "size_col    = 28    # width of the image\n",
    "\n",
    "num_image   = len(data)\n",
    "count       = 0     # count for the number of images"
   ]
  },
  {
   "cell_type": "code",
   "execution_count": 2,
   "metadata": {},
   "outputs": [
    {
     "name": "stdout",
     "output_type": "stream",
     "text": [
      "Using device: cuda\n",
      "\n",
      "GeForce RTX 2060 SUPER\n",
      "Memory Usage:\n",
      "Allocated: 0.0 GB\n",
      "Cached:    0.0 GB\n"
     ]
    }
   ],
   "source": [
    "### Setting up Device\n",
    "device = torch.device('cuda' if torch.cuda.is_available() else 'cpu')\n",
    "# Below codes activates when want to use cpu\n",
    "#device = torch.device('cpu')\n",
    "print('Using device:', device)\n",
    "print()\n",
    "\n",
    "#Additional Info when using cuda\n",
    "if device.type == 'cuda':\n",
    "    print(torch.cuda.get_device_name(0))\n",
    "    print('Memory Usage:')\n",
    "    print('Allocated:', round(torch.cuda.memory_allocated(0)/1024**3,1), 'GB')\n",
    "    print('Cached:   ', round(torch.cuda.memory_cached(0)/1024**3,1), 'GB')"
   ]
  },
  {
   "cell_type": "code",
   "execution_count": 3,
   "metadata": {},
   "outputs": [],
   "source": [
    "#\n",
    "# normalize the values of the input data to be [0, 1]\n",
    "#\n",
    "def normalize(data):\n",
    "\n",
    "    data_normalized = (data - min(data)) / (max(data) - min(data))\n",
    "\n",
    "    return(data_normalized)"
   ]
  },
  {
   "cell_type": "code",
   "execution_count": 4,
   "metadata": {},
   "outputs": [],
   "source": [
    "#\n",
    "# example of distance function between two vectors x and y\n",
    "#\n",
    "def distance(x, y):\n",
    "\n",
    "    d = (x - y) ** 2\n",
    "    s = np.sum(d)\n",
    "    # r = np.sqrt(s)\n",
    "\n",
    "    return(s)"
   ]
  },
  {
   "cell_type": "code",
   "execution_count": 5,
   "metadata": {},
   "outputs": [],
   "source": [
    "#\n",
    "# make a matrix each column of which represents an images in a vector form\n",
    "#\n",
    "list_image  = np.empty((size_row * size_col, num_image), dtype=float)\n",
    "list_label  = np.empty(num_image, dtype=int)\n",
    "\n",
    "for line in data:\n",
    "\n",
    "    line_data   = line.split(',')\n",
    "    label       = line_data[0]\n",
    "    im_vector   = np.asfarray(line_data[1:])\n",
    "    im_vector   = normalize(im_vector)\n",
    "\n",
    "    list_label[count]       = label\n",
    "    list_image[:, count]    = im_vector\n",
    "\n",
    "    count += 1\n"
   ]
  },
  {
   "cell_type": "code",
   "execution_count": 6,
   "metadata": {},
   "outputs": [],
   "source": [
    "def sigmoid_grad(z):\n",
    "    sig_value =  1.0 / (1.0 + np.exp(-z))\n",
    "    return sig_value * (1 - sig_value)\n",
    "\n",
    "def sig_grad(z) :\n",
    "    return z * (1-z)"
   ]
  },
  {
   "cell_type": "code",
   "execution_count": 7,
   "metadata": {},
   "outputs": [],
   "source": [
    "def show_example(list_image,list_label) :\n",
    "    f1 = plt.figure(1)\n",
    "    \n",
    "    for i in range(10):\n",
    "        label       = list_label[i]\n",
    "        im_vector   = list_image[:, i]\n",
    "        im_matrix   = im_vector.reshape((size_row, size_col))\n",
    "\n",
    "        plt.subplot(2, 5, i+1)\n",
    "        plt.title(label)\n",
    "        plt.imshow(im_matrix, cmap='Greys', interpolation='None')\n",
    "\n",
    "        frame   = plt.gca()\n",
    "        frame.axes.get_xaxis().set_visible(False)\n",
    "        frame.axes.get_yaxis().set_visible(False)\n",
    "    plt.show()    "
   ]
  },
  {
   "cell_type": "code",
   "execution_count": 8,
   "metadata": {},
   "outputs": [],
   "source": [
    "def get_running_time(start_time) :\n",
    "    running_time = datetime.datetime.now() - start_time\n",
    "    running_time = running_time.seconds\n",
    "    hours, remainder = divmod(running_time, 3600)\n",
    "    minutes, seconds = divmod(remainder, 60)\n",
    "    return hours, minutes, seconds"
   ]
  },
  {
   "cell_type": "code",
   "execution_count": null,
   "metadata": {
    "scrolled": true
   },
   "outputs": [],
   "source": []
  },
  {
   "cell_type": "code",
   "execution_count": 9,
   "metadata": {
    "scrolled": true
   },
   "outputs": [],
   "source": [
    "train_image = list_image[:, :1000]\n",
    "train_label = list_label[:1000]\n",
    "test_image = list_image[:,1000:]\n",
    "test_label = list_label[1000:]\n",
    "\n",
    "train_label_vec = np.zeros((10, train_label.shape[0]))\n",
    "test_label_vec = np.zeros((10, test_label.shape[0]))\n",
    "for i, val in enumerate(train_label):\n",
    "    train_label_vec[val, i] = 1.0\n",
    "for i, val in enumerate(test_label):\n",
    "    test_label_vec[val, i] = 1.0\n",
    "\n",
    "    \n",
    "train_input_with_bias = np.ones((train_image.shape[0]+1, train_image.shape[1])) # add bia\n",
    "train_input_with_bias[1:, :] = train_image\n",
    "test_input_with_bias = np.ones((test_image.shape[0]+1, test_image.shape[1])) # add bia\n",
    "test_input_with_bias[1:, :] = test_image"
   ]
  },
  {
   "cell_type": "code",
   "execution_count": 10,
   "metadata": {},
   "outputs": [],
   "source": [
    "train_input_with_bias = torch.DoubleTensor(train_input_with_bias).to(device)\n",
    "test_input_with_bias = torch.DoubleTensor(test_input_with_bias).to(device)\n",
    "train_label_vec = torch.DoubleTensor(train_label_vec).to(device)\n",
    "test_label_vec = torch.DoubleTensor(test_label_vec).to(device)\n",
    "train_label = torch.DoubleTensor(train_label).to(device)\n",
    "test_label = torch.DoubleTensor(test_label).to(device)"
   ]
  },
  {
   "cell_type": "code",
   "execution_count": 11,
   "metadata": {
    "scrolled": true
   },
   "outputs": [],
   "source": [
    "def get_theta_square_mean(th_list) :\n",
    "    sum_th = 0\n",
    "    th_num = 0\n",
    "    for th in th_list :\n",
    "        sum_th += torch.sum(th)\n",
    "        th_num += th.view(-1).shape[0]\n",
    "    \n",
    "    return sum_th/th_num"
   ]
  },
  {
   "cell_type": "code",
   "execution_count": 12,
   "metadata": {},
   "outputs": [],
   "source": [
    "class ML :\n",
    "    def __init__(self,layer_info = [196,49,10],lr = 1e-3,weight_decay= 1e-4,loss_conv = 1e-6,monitoring_epoch = 0) :\n",
    "        print('-'*20,\"ML START\", '-'*20)\n",
    "        \n",
    "        \n",
    "        print(\"lr : {}, weight_decay : {}, loss_conv : {}, thetas : {}\".format(lr, weight_decay, loss_conv, layer_info))\n",
    "        self.list_layer_info = layer_info\n",
    "        self.init_thetas()\n",
    "        \n",
    "        self.monitoring_epoch = monitoring_epoch\n",
    "        self.num_hidden_layer = len(self.list_theta)-1\n",
    "        self.lr = lr\n",
    "        self.weight_decay = weight_decay\n",
    "        self.loss_conv = loss_conv\n",
    "        self.epoch = 0\n",
    "        self.list_epoch = []\n",
    "        self.list_loss_train = []\n",
    "        self.list_loss_test = []\n",
    "        self.list_acc_train = []\n",
    "        self.list_acc_test = []\n",
    "        self.list_y = []\n",
    "        self.list_a = []\n",
    "        self.result_train = {}\n",
    "        self.result_test = {}\n",
    "        self.start_time = datetime.datetime.now()\n",
    "        self.exit_count = 0\n",
    "        self.list_dL = []\n",
    "        self.list_grad = []\n",
    "        self.exit_count = 0\n",
    "        self.train()\n",
    "        \n",
    "        \n",
    "    def init_thetas(self) :\n",
    "        self.list_theta = []\n",
    "        list_d = [784]\n",
    "        for d in self.list_layer_info :\n",
    "            th = torch.randn((d,list_d[-1]+1),dtype=torch.double).to(device)\n",
    "            self.list_theta.append(th)\n",
    "            list_d.append(d)\n",
    "        \n",
    "    def monitoring(self) :\n",
    "        if self.monitoring_epoch != 0 :\n",
    "            if self.epoch % self.monitoring_epoch == 0 :\n",
    "                running_time = get_running_time(self.start_time)\n",
    "                print(\"Train Acc : {:.3f}, Loss : {:.8f} | epoch : {}, time : {:02d}:{:02d}:{:02d}\\nTest  Acc : {:.3f}, Loss : {:.8f}\".\\\n",
    "                      format(self.list_acc_train[-1],self.list_loss_train[-1],self.epoch,running_time[0],running_time[1],running_time[2],self.list_acc_test[-1],self.list_loss_test[-1]))\n",
    "        \n",
    "    def train(self) :\n",
    "        while (True) :\n",
    "            self.forward_propagation_train()\n",
    "            self.set_gradient_decent()\n",
    "            self.forward_propagation_test()\n",
    "            self.update_weights()\n",
    "            self.monitoring()\n",
    "            \n",
    "            if self.check_terminate() :\n",
    "                self.terminate()\n",
    "                break\n",
    "        \n",
    "\n",
    "    def check_terminate(self) :\n",
    "        if self.epoch > 5 :\n",
    "            loss_gap = abs(self.list_loss_train[-1] - self.list_loss_train[-2])\n",
    "            if loss_gap < self.loss_conv :\n",
    "                self.exit_count += 1\n",
    "            else :\n",
    "                self.exit_count = 0\n",
    "            if self.exit_count > 4 :\n",
    "                return True\n",
    "\n",
    "            \n",
    "        return False\n",
    "    \n",
    "    def terminate(self) :\n",
    "        # Save result.\n",
    "        self.result_train[\"epoch\"] = self.list_epoch\n",
    "        self.result_train[\"loss\"] = self.list_loss_train\n",
    "        self.result_train[\"acc\"] = self.list_acc_train\n",
    "        self.result_train[\"theta\"] = self.list_theta\n",
    "\n",
    "        self.result_test[\"epoch\"] = self.list_epoch\n",
    "        self.result_test[\"loss\"] = self.list_loss_test\n",
    "        self.result_test[\"acc\"] = self.list_acc_test\n",
    "\n",
    "        # Save Sample images\n",
    "        list_correct_image = []\n",
    "        list_correct_label = []\n",
    "        list_incorrect_image = []\n",
    "        list_incorrect_label = []\n",
    "        num_correct=0\n",
    "        num_incorrect=0\n",
    "\n",
    "        for i, correct in enumerate(test_label == self.predict_test) :\n",
    "            if (correct) :\n",
    "                if num_correct < 10 :\n",
    "                    list_correct_image.append(test_image[:,i])\n",
    "                    list_correct_label.append(int(test_label[i].item()))\n",
    "                    num_correct += 1\n",
    "            else :\n",
    "                if num_incorrect < 10 :\n",
    "                    list_incorrect_image.append(test_image[:,i])\n",
    "                    list_incorrect_label.append(int(self.predict_test[i].item()))\n",
    "                    num_incorrect += 1\n",
    "            if num_correct >= 10 and num_incorrect >= 10 :\n",
    "                break\n",
    "        self.result_test[\"correct_image\"] = list_correct_image\n",
    "        self.result_test[\"correct_label\"] = list_correct_label\n",
    "        self.result_test[\"incorrect_image\"] = list_incorrect_image\n",
    "        self.result_test[\"incorrect_label\"] = list_incorrect_label\n",
    "\n",
    "        print(\"Loss is converged. epoch {}\".format(self.epoch))\n",
    "        print(\"Training Process Ended\")\n",
    "        return True\n",
    "        \n",
    "    \n",
    "    def forward_propagation_train(self) :\n",
    "        self.epoch += 1\n",
    "        self.list_epoch.append(self.epoch)\n",
    "        self.list_y = []\n",
    "        self.list_a = []\n",
    "        self.list_a_bias = [train_input_with_bias]\n",
    "        for idx, th in enumerate(self.list_theta) :    \n",
    "            y_tmp = torch.mm(th,self.list_a_bias[-1])\n",
    "            self.list_y.append(y_tmp)\n",
    "            a_tmp = 1 / (1 + torch.exp(-y_tmp))\n",
    "            self.list_a.append(a_tmp)\n",
    "            a_bias_tmp = torch.ones((a_tmp.shape[0] + 1, a_tmp.shape[1]), dtype=torch.double).to(device)\n",
    "            a_bias_tmp[1:, :] = a_tmp\n",
    "            self.list_a_bias.append(a_bias_tmp)\n",
    "        self.list_a_bias.pop()\n",
    "        \n",
    "        h = self.list_a[-1]\n",
    "        loss_train = torch.sum(-train_label_vec * (torch.log(h)) - (1 - train_label_vec)* torch.log(1 - h)) / len(h.T) + self.weight_decay*0.5*get_theta_square_mean(self.list_theta)\n",
    "        self.list_loss_train.append(loss_train)\n",
    "        # Calculate Acc\n",
    "        self.predict_train = torch.argmax(h, axis = 0)\n",
    "        self.correct_train = torch.sum(train_label == self.predict_train, axis = 0)\n",
    "        acc_train = self.correct_train.item()/train_label.shape[0]\n",
    "        self.list_acc_train.append(acc_train)\n",
    "        \n",
    "    def forward_propagation_test(self) :\n",
    "        self.list_y = []\n",
    "        self.list_a = []\n",
    "        self.list_a_bias = [test_input_with_bias]\n",
    "        for idx, th in enumerate(self.list_theta) :\n",
    "           \n",
    "            y_tmp = torch.mm(th,self.list_a_bias[-1])\n",
    "            self.list_y.append(y_tmp)\n",
    "            a_tmp = 1 / (1 + torch.exp(-y_tmp))\n",
    "            self.list_a.append(a_tmp)\n",
    "            a_bias_tmp = torch.ones((a_tmp.shape[0] + 1, a_tmp.shape[1]), dtype=torch.double).to(device)\n",
    "            a_bias_tmp[1:, :] = a_tmp\n",
    "            self.list_a_bias.append(a_bias_tmp)\n",
    "        self.list_a_bias.pop()\n",
    "        \n",
    "        h = self.list_a[-1]\n",
    "        loss_test = torch.sum(-test_label_vec * (torch.log(h)) - (1 - test_label_vec)* torch.log(1 - h)) / len(h.T) + self.weight_decay*0.5*get_theta_square_mean(self.list_theta)\n",
    "        self.list_loss_test.append(loss_test)\n",
    "\n",
    "\n",
    "        # Calculate Acc\n",
    "        self.predict_test = torch.argmax(h, axis = 0)\n",
    "        self.correct_test = torch.sum(test_label == self.predict_test, axis = 0)\n",
    "        acc_test = self.correct_test.item()/test_label.shape[0]\n",
    "        self.list_acc_test.append(acc_test)\n",
    "        \n",
    "    def set_gradient_decent (self) :\n",
    "         # Back propagation\n",
    "        self.list_dL = []\n",
    "        self.list_grad = []\n",
    "        \n",
    "        self.list_dL.append(self.list_a[-1]-train_label_vec)\n",
    "        self.list_grad.append(torch.mm(self.list_dL[-1],self.list_a_bias[-1].T))\n",
    "        idx = 0\n",
    "        for i in range(0,self.num_hidden_layer) :\n",
    "            idx += 1\n",
    "            dL_dy = torch.mm(self.list_theta[-idx].T,self.list_dL[-1]) * sig_grad(self.list_a_bias[-idx])\n",
    "            dL_dy = dL_dy[1:, :]\n",
    "            self.list_dL.append(dL_dy)\n",
    "            self.list_grad.append(torch.mm(dL_dy,self.list_a_bias[-(idx+1)].T))\n",
    "        self.list_grad.reverse()\n",
    "        \n",
    "        # There needs more \n",
    "    def update_weights(self) :\n",
    "        for th, grad in zip(self.list_theta,self.list_grad) :\n",
    "            th -= self.lr * (grad + th. \n",
    "            \n",
    "    \n",
    "    def show_correct_example(self) :\n",
    "\n",
    "        list_label = self.result_test[\"correct_label\"]\n",
    "        list_image = np.array(self.result_test[\"correct_image\"]).T\n",
    "        f1 = plt.figure(1)\n",
    "\n",
    "        for i in range(10):\n",
    "            label       = list_label[i]\n",
    "            im_vector   = list_image[:, i]\n",
    "            im_matrix   = im_vector.reshape((size_row, size_col))\n",
    "\n",
    "            plt.subplot(2, 5, i+1)\n",
    "            plt.title(label)\n",
    "            plt.imshow(im_matrix, cmap='Greys', interpolation='None')\n",
    "\n",
    "            frame   = plt.gca()\n",
    "            frame.axes.get_xaxis().set_visible(False)\n",
    "            frame.axes.get_yaxis().set_visible(False)\n",
    "        plt.show()    \n",
    "\n",
    "    def show_incorrect_example(self) :\n",
    "\n",
    "        list_label = self.result_test[\"incorrect_label\"]\n",
    "        list_image = np.array(self.result_test[\"incorrect_image\"]).T\n",
    "        f1 = plt.figure(1)\n",
    "\n",
    "        for i in range(10):\n",
    "            label       = list_label[i]\n",
    "            im_vector   = list_image[:, i]\n",
    "            im_matrix   = im_vector.reshape((size_row, size_col))\n",
    "\n",
    "            plt.subplot(2, 5, i+1)\n",
    "            plt.title(label)\n",
    "            plt.imshow(im_matrix, cmap='Greys', interpolation='None')\n",
    "\n",
    "            frame   = plt.gca()\n",
    "            frame.axes.get_xaxis().set_visible(False)\n",
    "            frame.axes.get_yaxis().set_visible(False)\n",
    "        plt.show()    \n",
    "    def show_loss_curve(self) :\n",
    "        plt.title(\"Loss curve\")\n",
    "        plot_1, = plt.plot(self.result_train[\"epoch\"],self.result_train[\"loss\"], color='b',linewidth=2,alpha=0.8)\n",
    "        plot_2, = plt.plot(self.result_test[\"epoch\"],self.result_test[\"loss\"], color='r',linewidth=2,alpha=0.8)\n",
    "        plt.legend([plot_1,plot_2],[\"Training\",\"Testing\"])\n",
    "\n",
    "    def show_acc_curve(self) :\n",
    "        plt.title(\"Accuracy curve\")\n",
    "        plot_1, = plt.plot(self.result_train[\"epoch\"],self.result_train[\"acc\"], color='b',linewidth=2,alpha=0.8)\n",
    "        plot_2, = plt.plot(self.result_test[\"epoch\"],self.result_test[\"acc\"], color='r',linewidth=2,alpha=0.8)\n",
    "        plt.legend([plot_1,plot_2],[\"Training\",\"Testing\"])\n",
    "\n",
    "    def show_final_acc(self) :\n",
    "        print(\"Final Training Acc : {:.3f}%\\nFinal Testing Acc : {:.3f}%\".format(self.result_train[\"acc\"][-1]*100,self.result_test[\"acc\"][-1]*100))"
   ]
  },
  {
   "cell_type": "code",
   "execution_count": 13,
   "metadata": {},
   "outputs": [
    {
     "name": "stdout",
     "output_type": "stream",
     "text": [
      "-------------------- ML START --------------------\n",
      "lr : 0.001, weight_decay : 0.0001, loss_conv : 1e-07, thetas : [196, 49, 10]\n",
      "Train Acc : 0.999, Loss : 0.05969883 | epoch : 1000, time : 00:00:28\n",
      "Test  Acc : 0.779, Loss : 1.50948126\n",
      "Train Acc : 1.000, Loss : 0.02355389 | epoch : 2000, time : 00:00:54\n",
      "Test  Acc : 0.789, Loss : 1.58034851\n",
      "Train Acc : 1.000, Loss : 0.01398437 | epoch : 3000, time : 00:01:21\n",
      "Test  Acc : 0.794, Loss : 1.62435130\n",
      "Train Acc : 1.000, Loss : 0.00969571 | epoch : 4000, time : 00:01:48\n",
      "Test  Acc : 0.797, Loss : 1.65810379\n",
      "Train Acc : 1.000, Loss : 0.00726914 | epoch : 5000, time : 00:02:15\n",
      "Test  Acc : 0.799, Loss : 1.68326366\n",
      "Train Acc : 1.000, Loss : 0.00581696 | epoch : 6000, time : 00:02:42\n",
      "Test  Acc : 0.801, Loss : 1.70465584\n",
      "Train Acc : 1.000, Loss : 0.00480173 | epoch : 7000, time : 00:03:09\n",
      "Test  Acc : 0.802, Loss : 1.72487051\n",
      "Train Acc : 1.000, Loss : 0.00407550 | epoch : 8000, time : 00:03:35\n",
      "Test  Acc : 0.803, Loss : 1.74257122\n",
      "Train Acc : 1.000, Loss : 0.00354418 | epoch : 9000, time : 00:04:02\n",
      "Test  Acc : 0.803, Loss : 1.75703814\n",
      "Train Acc : 1.000, Loss : 0.00312998 | epoch : 10000, time : 00:04:29\n",
      "Test  Acc : 0.804, Loss : 1.76982489\n",
      "Train Acc : 1.000, Loss : 0.00280202 | epoch : 11000, time : 00:04:56\n",
      "Test  Acc : 0.804, Loss : 1.78118302\n",
      "Train Acc : 1.000, Loss : 0.00252666 | epoch : 12000, time : 00:05:22\n",
      "Test  Acc : 0.805, Loss : 1.79168061\n",
      "Train Acc : 1.000, Loss : 0.00229912 | epoch : 13000, time : 00:05:49\n",
      "Test  Acc : 0.805, Loss : 1.80135749\n",
      "Train Acc : 1.000, Loss : 0.00211292 | epoch : 14000, time : 00:06:16\n",
      "Test  Acc : 0.806, Loss : 1.81015964\n",
      "Train Acc : 1.000, Loss : 0.00195504 | epoch : 15000, time : 00:06:42\n",
      "Test  Acc : 0.807, Loss : 1.81832925\n",
      "Train Acc : 1.000, Loss : 0.00181871 | epoch : 16000, time : 00:07:09\n",
      "Test  Acc : 0.808, Loss : 1.82601892\n",
      "Train Acc : 1.000, Loss : 0.00169975 | epoch : 17000, time : 00:07:36\n",
      "Test  Acc : 0.808, Loss : 1.83329286\n",
      "Loss is converged. epoch 17859\n",
      "Training Process Ended\n"
     ]
    }
   ],
   "source": [
    "ml = ML([196,49,10],lr= 1e-3,loss_conv = 1e-7,weight_decay=1e-4,monitoring_epoch=1000)"
   ]
  },
  {
   "cell_type": "code",
   "execution_count": 26,
   "metadata": {},
   "outputs": [
    {
     "name": "stdout",
     "output_type": "stream",
     "text": [
      "-------------------- ML START --------------------\n",
      "lr : 0.001, weight_decay : 0.001, loss_conv : 1e-07, thetas : [196, 49, 10]\n",
      "Train Acc : 1.000, Loss : 0.05780767 | epoch : 1000, time : 00:00:26\n",
      "Test  Acc : 0.784, Loss : 1.44718404\n",
      "Train Acc : 1.000, Loss : 0.02179259 | epoch : 2000, time : 00:00:53\n",
      "Test  Acc : 0.797, Loss : 1.51002101\n",
      "Train Acc : 1.000, Loss : 0.01250471 | epoch : 3000, time : 00:01:19\n",
      "Test  Acc : 0.802, Loss : 1.55521845\n",
      "Train Acc : 1.000, Loss : 0.00866779 | epoch : 4000, time : 00:01:46\n",
      "Test  Acc : 0.807, Loss : 1.58597569\n",
      "Train Acc : 1.000, Loss : 0.00647571 | epoch : 5000, time : 00:02:13\n",
      "Test  Acc : 0.808, Loss : 1.61049181\n",
      "Train Acc : 1.000, Loss : 0.00513354 | epoch : 6000, time : 00:02:39\n",
      "Test  Acc : 0.810, Loss : 1.63090633\n",
      "Train Acc : 1.000, Loss : 0.00423730 | epoch : 7000, time : 00:03:06\n",
      "Test  Acc : 0.811, Loss : 1.64704067\n",
      "Train Acc : 1.000, Loss : 0.00360647 | epoch : 8000, time : 00:03:33\n",
      "Test  Acc : 0.813, Loss : 1.66153487\n",
      "Train Acc : 1.000, Loss : 0.00313304 | epoch : 9000, time : 00:04:00\n",
      "Test  Acc : 0.813, Loss : 1.67486796\n",
      "Train Acc : 1.000, Loss : 0.00276156 | epoch : 10000, time : 00:04:26\n",
      "Test  Acc : 0.813, Loss : 1.68712458\n",
      "Train Acc : 1.000, Loss : 0.00246873 | epoch : 11000, time : 00:04:53\n",
      "Test  Acc : 0.814, Loss : 1.69853436\n",
      "Train Acc : 1.000, Loss : 0.00223072 | epoch : 12000, time : 00:05:20\n",
      "Test  Acc : 0.813, Loss : 1.70903336\n",
      "Train Acc : 1.000, Loss : 0.00203370 | epoch : 13000, time : 00:05:47\n",
      "Test  Acc : 0.814, Loss : 1.71865598\n",
      "Train Acc : 1.000, Loss : 0.00186823 | epoch : 14000, time : 00:06:14\n",
      "Test  Acc : 0.814, Loss : 1.72750538\n",
      "Train Acc : 1.000, Loss : 0.00172722 | epoch : 15000, time : 00:06:40\n",
      "Test  Acc : 0.814, Loss : 1.73568192\n",
      "Train Acc : 1.000, Loss : 0.00160552 | epoch : 16000, time : 00:07:07\n",
      "Test  Acc : 0.814, Loss : 1.74327758\n",
      "Loss is converged. epoch 16960\n",
      "Training Process Ended\n"
     ]
    }
   ],
   "source": [
    "ml2 = ML([196,49,10],lr= 1e-3,loss_conv = 1e-7,weight_decay=1e-3,monitoring_epoch=1000)"
   ]
  },
  {
   "cell_type": "code",
   "execution_count": 27,
   "metadata": {},
   "outputs": [
    {
     "name": "stdout",
     "output_type": "stream",
     "text": [
      "-------------------- ML START --------------------\n",
      "lr : 0.001, weight_decay : 0.01, loss_conv : 1e-07, thetas : [196, 49, 10]\n",
      "Train Acc : 0.999, Loss : 0.06674759 | epoch : 1000, time : 00:00:26\n",
      "Test  Acc : 0.782, Loss : 1.47024796\n",
      "Train Acc : 1.000, Loss : 0.02397193 | epoch : 2000, time : 00:00:53\n",
      "Test  Acc : 0.793, Loss : 1.55137002\n",
      "Train Acc : 1.000, Loss : 0.01391555 | epoch : 3000, time : 00:01:19\n",
      "Test  Acc : 0.796, Loss : 1.59459512\n",
      "Train Acc : 1.000, Loss : 0.00954052 | epoch : 4000, time : 00:01:46\n",
      "Test  Acc : 0.799, Loss : 1.62946641\n",
      "Train Acc : 1.000, Loss : 0.00722466 | epoch : 5000, time : 00:02:13\n",
      "Test  Acc : 0.801, Loss : 1.65415023\n",
      "Train Acc : 1.000, Loss : 0.00580078 | epoch : 6000, time : 00:02:39\n",
      "Test  Acc : 0.801, Loss : 1.67511199\n",
      "Train Acc : 1.000, Loss : 0.00482970 | epoch : 7000, time : 00:03:06\n",
      "Test  Acc : 0.802, Loss : 1.69271678\n",
      "Train Acc : 1.000, Loss : 0.00412453 | epoch : 8000, time : 00:03:33\n",
      "Test  Acc : 0.804, Loss : 1.70776443\n",
      "Train Acc : 1.000, Loss : 0.00358662 | epoch : 9000, time : 00:03:59\n",
      "Test  Acc : 0.804, Loss : 1.72100551\n",
      "Train Acc : 1.000, Loss : 0.00316850 | epoch : 10000, time : 00:04:26\n",
      "Test  Acc : 0.805, Loss : 1.73269859\n",
      "Train Acc : 1.000, Loss : 0.00283715 | epoch : 11000, time : 00:04:52\n",
      "Test  Acc : 0.806, Loss : 1.74301458\n",
      "Train Acc : 1.000, Loss : 0.00256711 | epoch : 12000, time : 00:05:19\n",
      "Test  Acc : 0.806, Loss : 1.75219017\n",
      "Train Acc : 1.000, Loss : 0.00234167 | epoch : 13000, time : 00:05:46\n",
      "Test  Acc : 0.806, Loss : 1.76041342\n",
      "Train Acc : 1.000, Loss : 0.00214985 | epoch : 14000, time : 00:06:12\n",
      "Test  Acc : 0.806, Loss : 1.76785326\n",
      "Train Acc : 1.000, Loss : 0.00198198 | epoch : 15000, time : 00:06:39\n",
      "Test  Acc : 0.807, Loss : 1.77463470\n",
      "Train Acc : 1.000, Loss : 0.00182433 | epoch : 16000, time : 00:07:05\n",
      "Test  Acc : 0.807, Loss : 1.78104164\n",
      "Train Acc : 1.000, Loss : 0.00168275 | epoch : 17000, time : 00:07:32\n",
      "Test  Acc : 0.809, Loss : 1.78709732\n",
      "Train Acc : 1.000, Loss : 0.00156660 | epoch : 18000, time : 00:07:59\n",
      "Test  Acc : 0.809, Loss : 1.79239026\n",
      "Loss is converged. epoch 18435\n",
      "Training Process Ended\n"
     ]
    }
   ],
   "source": [
    "ml3 = ML([196,49,10],lr= 1e-3,loss_conv = 1e-7,weight_decay=1e-2,monitoring_epoch=1000)"
   ]
  },
  {
   "cell_type": "code",
   "execution_count": 30,
   "metadata": {},
   "outputs": [
    {
     "name": "stdout",
     "output_type": "stream",
     "text": [
      "-------------------- ML START --------------------\n",
      "lr : 0.005, weight_decay : 0.001, loss_conv : 1e-09, thetas : [196, 49, 10]\n",
      "Train Acc : 0.990, Loss : 0.08911914 | epoch : 1000, time : 00:00:26\n",
      "Test  Acc : 0.787, Loss : 1.66077070\n",
      "Train Acc : 0.998, Loss : 0.02509672 | epoch : 2000, time : 00:00:54\n",
      "Test  Acc : 0.791, Loss : 1.81201704\n",
      "Train Acc : 1.000, Loss : 0.01024098 | epoch : 3000, time : 00:01:22\n",
      "Test  Acc : 0.792, Loss : 1.90801044\n",
      "Train Acc : 1.000, Loss : 0.00735706 | epoch : 4000, time : 00:01:48\n",
      "Test  Acc : 0.795, Loss : 1.97077165\n",
      "Train Acc : 1.000, Loss : 0.00579981 | epoch : 5000, time : 00:02:14\n",
      "Test  Acc : 0.795, Loss : 2.02484522\n",
      "Train Acc : 1.000, Loss : 0.00460498 | epoch : 6000, time : 00:02:43\n",
      "Test  Acc : 0.796, Loss : 2.06520404\n",
      "Train Acc : 1.000, Loss : 0.00389990 | epoch : 7000, time : 00:03:09\n",
      "Test  Acc : 0.796, Loss : 2.10809195\n",
      "Train Acc : 1.000, Loss : 0.00328620 | epoch : 8000, time : 00:03:36\n",
      "Test  Acc : 0.794, Loss : 2.15441112\n",
      "Train Acc : 1.000, Loss : 0.00292203 | epoch : 9000, time : 00:04:03\n",
      "Test  Acc : 0.794, Loss : 2.18761551\n",
      "Train Acc : 1.000, Loss : 0.00263463 | epoch : 10000, time : 00:04:29\n",
      "Test  Acc : 0.794, Loss : 2.21974388\n",
      "Train Acc : 1.000, Loss : 0.00240087 | epoch : 11000, time : 00:04:56\n",
      "Test  Acc : 0.796, Loss : 2.24399196\n",
      "Train Acc : 1.000, Loss : 0.00215985 | epoch : 12000, time : 00:05:23\n",
      "Test  Acc : 0.797, Loss : 2.26335007\n",
      "Train Acc : 1.000, Loss : 0.00195502 | epoch : 13000, time : 00:05:50\n",
      "Test  Acc : 0.797, Loss : 2.28232173\n",
      "Train Acc : 1.000, Loss : 0.00178793 | epoch : 14000, time : 00:06:17\n",
      "Test  Acc : 0.797, Loss : 2.29941550\n",
      "Train Acc : 1.000, Loss : 0.00156178 | epoch : 15000, time : 00:06:43\n",
      "Test  Acc : 0.795, Loss : 2.32231714\n",
      "Train Acc : 1.000, Loss : 0.00143715 | epoch : 16000, time : 00:07:10\n",
      "Test  Acc : 0.795, Loss : 2.34112865\n",
      "Train Acc : 1.000, Loss : 0.00133501 | epoch : 17000, time : 00:07:37\n",
      "Test  Acc : 0.796, Loss : 2.35727899\n",
      "Train Acc : 1.000, Loss : 0.00124574 | epoch : 18000, time : 00:08:04\n",
      "Test  Acc : 0.796, Loss : 2.37339286\n",
      "Train Acc : 1.000, Loss : 0.00116205 | epoch : 19000, time : 00:08:30\n",
      "Test  Acc : 0.796, Loss : 2.38802199\n",
      "Train Acc : 1.000, Loss : 0.00108909 | epoch : 20000, time : 00:08:57\n",
      "Test  Acc : 0.796, Loss : 2.40247904\n",
      "Train Acc : 1.000, Loss : 0.00102852 | epoch : 21000, time : 00:09:24\n",
      "Test  Acc : 0.796, Loss : 2.41146517\n",
      "Train Acc : 1.000, Loss : 0.00097671 | epoch : 22000, time : 00:09:51\n",
      "Test  Acc : 0.797, Loss : 2.42012572\n",
      "Train Acc : 1.000, Loss : 0.00092620 | epoch : 23000, time : 00:10:18\n",
      "Test  Acc : 0.798, Loss : 2.43012788\n",
      "Train Acc : 1.000, Loss : 0.00088465 | epoch : 24000, time : 00:10:44\n",
      "Test  Acc : 0.798, Loss : 2.44081997\n",
      "Train Acc : 1.000, Loss : 0.00084865 | epoch : 25000, time : 00:11:11\n",
      "Test  Acc : 0.797, Loss : 2.45114054\n",
      "Train Acc : 1.000, Loss : 0.00081616 | epoch : 26000, time : 00:11:38\n",
      "Test  Acc : 0.798, Loss : 2.46124251\n",
      "Train Acc : 1.000, Loss : 0.00078567 | epoch : 27000, time : 00:12:05\n",
      "Test  Acc : 0.798, Loss : 2.47155029\n",
      "Train Acc : 1.000, Loss : 0.00075064 | epoch : 28000, time : 00:12:32\n",
      "Test  Acc : 0.799, Loss : 2.48282395\n",
      "Train Acc : 1.000, Loss : 0.00072295 | epoch : 29000, time : 00:12:59\n",
      "Test  Acc : 0.799, Loss : 2.49170007\n",
      "Train Acc : 1.000, Loss : 0.00069921 | epoch : 30000, time : 00:13:25\n",
      "Test  Acc : 0.799, Loss : 2.50030063\n",
      "Train Acc : 1.000, Loss : 0.00067734 | epoch : 31000, time : 00:13:52\n",
      "Test  Acc : 0.799, Loss : 2.50861031\n",
      "Train Acc : 1.000, Loss : 0.00065678 | epoch : 32000, time : 00:14:19\n",
      "Test  Acc : 0.799, Loss : 2.51671621\n",
      "Train Acc : 1.000, Loss : 0.00063716 | epoch : 33000, time : 00:14:46\n",
      "Test  Acc : 0.799, Loss : 2.52473136\n",
      "Train Acc : 1.000, Loss : 0.00061844 | epoch : 34000, time : 00:15:13\n",
      "Test  Acc : 0.798, Loss : 2.53272599\n",
      "Train Acc : 1.000, Loss : 0.00060085 | epoch : 35000, time : 00:15:40\n",
      "Test  Acc : 0.798, Loss : 2.54065314\n",
      "Train Acc : 1.000, Loss : 0.00058433 | epoch : 36000, time : 00:16:07\n",
      "Test  Acc : 0.799, Loss : 2.54849117\n",
      "Train Acc : 1.000, Loss : 0.00056863 | epoch : 37000, time : 00:16:33\n",
      "Test  Acc : 0.798, Loss : 2.55630713\n",
      "Train Acc : 1.000, Loss : 0.00055353 | epoch : 38000, time : 00:17:00\n",
      "Test  Acc : 0.799, Loss : 2.56422828\n",
      "Train Acc : 1.000, Loss : 0.00053873 | epoch : 39000, time : 00:17:27\n",
      "Test  Acc : 0.798, Loss : 2.57242131\n",
      "Train Acc : 1.000, Loss : 0.00052418 | epoch : 40000, time : 00:17:54\n",
      "Test  Acc : 0.798, Loss : 2.58044870\n",
      "Train Acc : 1.000, Loss : 0.00051060 | epoch : 41000, time : 00:18:21\n",
      "Test  Acc : 0.799, Loss : 2.58714529\n",
      "Train Acc : 1.000, Loss : 0.00049800 | epoch : 42000, time : 00:18:47\n",
      "Test  Acc : 0.799, Loss : 2.59290361\n",
      "Train Acc : 1.000, Loss : 0.00048612 | epoch : 43000, time : 00:19:14\n",
      "Test  Acc : 0.798, Loss : 2.59829179\n",
      "Train Acc : 1.000, Loss : 0.00047480 | epoch : 44000, time : 00:19:41\n",
      "Test  Acc : 0.798, Loss : 2.60346859\n",
      "Train Acc : 1.000, Loss : 0.00046392 | epoch : 45000, time : 00:20:08\n",
      "Test  Acc : 0.798, Loss : 2.60846777\n",
      "Train Acc : 1.000, Loss : 0.00045333 | epoch : 46000, time : 00:20:35\n",
      "Test  Acc : 0.798, Loss : 2.61330912\n",
      "Train Acc : 1.000, Loss : 0.00044285 | epoch : 47000, time : 00:21:02\n",
      "Test  Acc : 0.798, Loss : 2.61803987\n",
      "Train Acc : 1.000, Loss : 0.00043240 | epoch : 48000, time : 00:21:28\n",
      "Test  Acc : 0.798, Loss : 2.62278023\n",
      "Train Acc : 1.000, Loss : 0.00042233 | epoch : 49000, time : 00:21:55\n",
      "Test  Acc : 0.797, Loss : 2.62770675\n",
      "Train Acc : 1.000, Loss : 0.00041294 | epoch : 50000, time : 00:22:22\n",
      "Test  Acc : 0.797, Loss : 2.63289648\n",
      "Train Acc : 1.000, Loss : 0.00040405 | epoch : 51000, time : 00:22:49\n",
      "Test  Acc : 0.798, Loss : 2.63828749\n",
      "Train Acc : 1.000, Loss : 0.00039552 | epoch : 52000, time : 00:23:16\n",
      "Test  Acc : 0.797, Loss : 2.64375249\n",
      "Train Acc : 1.000, Loss : 0.00038734 | epoch : 53000, time : 00:23:42\n",
      "Test  Acc : 0.797, Loss : 2.64919995\n",
      "Train Acc : 1.000, Loss : 0.00037953 | epoch : 54000, time : 00:24:09\n",
      "Test  Acc : 0.798, Loss : 2.65466270\n",
      "Train Acc : 1.000, Loss : 0.00037207 | epoch : 55000, time : 00:24:36\n",
      "Test  Acc : 0.797, Loss : 2.66025582\n",
      "Train Acc : 1.000, Loss : 0.00036490 | epoch : 56000, time : 00:25:03\n",
      "Test  Acc : 0.797, Loss : 2.66610972\n",
      "Train Acc : 1.000, Loss : 0.00035790 | epoch : 57000, time : 00:25:30\n",
      "Test  Acc : 0.797, Loss : 2.67234380\n",
      "Train Acc : 1.000, Loss : 0.00035092 | epoch : 58000, time : 00:25:56\n",
      "Test  Acc : 0.797, Loss : 2.67905044\n",
      "Train Acc : 1.000, Loss : 0.00034378 | epoch : 59000, time : 00:26:23\n",
      "Test  Acc : 0.797, Loss : 2.68583112\n",
      "Train Acc : 1.000, Loss : 0.00033702 | epoch : 60000, time : 00:26:50\n",
      "Test  Acc : 0.797, Loss : 2.69056985\n",
      "Train Acc : 1.000, Loss : 0.00033090 | epoch : 61000, time : 00:27:17\n",
      "Test  Acc : 0.796, Loss : 2.69374284\n",
      "Train Acc : 1.000, Loss : 0.00032511 | epoch : 62000, time : 00:27:44\n",
      "Test  Acc : 0.796, Loss : 2.69672285\n",
      "Train Acc : 1.000, Loss : 0.00031952 | epoch : 63000, time : 00:28:10\n",
      "Test  Acc : 0.796, Loss : 2.69977511\n",
      "Train Acc : 1.000, Loss : 0.00031404 | epoch : 64000, time : 00:28:37\n",
      "Test  Acc : 0.796, Loss : 2.70289474\n",
      "Train Acc : 1.000, Loss : 0.00030853 | epoch : 65000, time : 00:29:04\n",
      "Test  Acc : 0.797, Loss : 2.70606024\n",
      "Train Acc : 1.000, Loss : 0.00030292 | epoch : 66000, time : 00:29:30\n",
      "Test  Acc : 0.796, Loss : 2.70926860\n",
      "Train Acc : 1.000, Loss : 0.00029744 | epoch : 67000, time : 00:29:57\n",
      "Test  Acc : 0.797, Loss : 2.71247400\n",
      "Train Acc : 1.000, Loss : 0.00029244 | epoch : 68000, time : 00:30:24\n",
      "Test  Acc : 0.797, Loss : 2.71560299\n",
      "Train Acc : 1.000, Loss : 0.00028784 | epoch : 69000, time : 00:30:51\n",
      "Test  Acc : 0.797, Loss : 2.71867594\n",
      "Train Acc : 1.000, Loss : 0.00028351 | epoch : 70000, time : 00:31:17\n",
      "Test  Acc : 0.798, Loss : 2.72172451\n",
      "Train Acc : 1.000, Loss : 0.00027937 | epoch : 71000, time : 00:31:44\n",
      "Test  Acc : 0.798, Loss : 2.72475563\n",
      "Train Acc : 1.000, Loss : 0.00027539 | epoch : 72000, time : 00:32:11\n",
      "Test  Acc : 0.798, Loss : 2.72776913\n",
      "Train Acc : 1.000, Loss : 0.00027155 | epoch : 73000, time : 00:32:38\n",
      "Test  Acc : 0.798, Loss : 2.73076495\n",
      "Train Acc : 1.000, Loss : 0.00026783 | epoch : 74000, time : 00:33:04\n",
      "Test  Acc : 0.798, Loss : 2.73374383\n",
      "Train Acc : 1.000, Loss : 0.00026423 | epoch : 75000, time : 00:33:31\n",
      "Test  Acc : 0.799, Loss : 2.73670676\n",
      "Train Acc : 1.000, Loss : 0.00026073 | epoch : 76000, time : 00:33:58\n",
      "Test  Acc : 0.798, Loss : 2.73965460\n",
      "Train Acc : 1.000, Loss : 0.00025732 | epoch : 77000, time : 00:34:25\n",
      "Test  Acc : 0.798, Loss : 2.74258793\n",
      "Train Acc : 1.000, Loss : 0.00025401 | epoch : 78000, time : 00:34:51\n",
      "Test  Acc : 0.798, Loss : 2.74550686\n",
      "Train Acc : 1.000, Loss : 0.00025079 | epoch : 79000, time : 00:35:18\n",
      "Test  Acc : 0.798, Loss : 2.74841107\n",
      "Train Acc : 1.000, Loss : 0.00024766 | epoch : 80000, time : 00:35:45\n",
      "Test  Acc : 0.798, Loss : 2.75129990\n",
      "Train Acc : 1.000, Loss : 0.00024460 | epoch : 81000, time : 00:36:12\n",
      "Test  Acc : 0.798, Loss : 2.75417235\n",
      "Train Acc : 1.000, Loss : 0.00024162 | epoch : 82000, time : 00:36:38\n",
      "Test  Acc : 0.798, Loss : 2.75702733\n",
      "Train Acc : 1.000, Loss : 0.00023871 | epoch : 83000, time : 00:37:05\n",
      "Test  Acc : 0.798, Loss : 2.75986369\n",
      "Train Acc : 1.000, Loss : 0.00023586 | epoch : 84000, time : 00:37:32\n",
      "Test  Acc : 0.798, Loss : 2.76268034\n",
      "Train Acc : 1.000, Loss : 0.00023308 | epoch : 85000, time : 00:37:58\n",
      "Test  Acc : 0.798, Loss : 2.76547631\n",
      "Train Acc : 1.000, Loss : 0.00023036 | epoch : 86000, time : 00:38:25\n",
      "Test  Acc : 0.798, Loss : 2.76825076\n",
      "Train Acc : 1.000, Loss : 0.00022770 | epoch : 87000, time : 00:38:52\n",
      "Test  Acc : 0.798, Loss : 2.77100309\n",
      "Train Acc : 1.000, Loss : 0.00022509 | epoch : 88000, time : 00:39:18\n",
      "Test  Acc : 0.798, Loss : 2.77373289\n",
      "Train Acc : 1.000, Loss : 0.00022253 | epoch : 89000, time : 00:39:45\n",
      "Test  Acc : 0.798, Loss : 2.77644005\n",
      "Train Acc : 1.000, Loss : 0.00022002 | epoch : 90000, time : 00:40:12\n",
      "Test  Acc : 0.798, Loss : 2.77912490\n",
      "Train Acc : 1.000, Loss : 0.00021754 | epoch : 91000, time : 00:40:39\n",
      "Test  Acc : 0.798, Loss : 2.78178845\n",
      "Train Acc : 1.000, Loss : 0.00021510 | epoch : 92000, time : 00:41:05\n",
      "Test  Acc : 0.797, Loss : 2.78443295\n",
      "Train Acc : 1.000, Loss : 0.00021268 | epoch : 93000, time : 00:41:32\n",
      "Test  Acc : 0.797, Loss : 2.78706295\n",
      "Train Acc : 1.000, Loss : 0.00021028 | epoch : 94000, time : 00:41:59\n",
      "Test  Acc : 0.797, Loss : 2.78968748\n",
      "Train Acc : 1.000, Loss : 0.00020787 | epoch : 95000, time : 00:42:25\n",
      "Test  Acc : 0.797, Loss : 2.79232444\n",
      "Train Acc : 1.000, Loss : 0.00020542 | epoch : 96000, time : 00:42:52\n",
      "Test  Acc : 0.797, Loss : 2.79500971\n",
      "Train Acc : 1.000, Loss : 0.00020286 | epoch : 97000, time : 00:43:19\n",
      "Test  Acc : 0.797, Loss : 2.79781517\n",
      "Train Acc : 1.000, Loss : 0.00020006 | epoch : 98000, time : 00:43:45\n",
      "Test  Acc : 0.797, Loss : 2.80086829\n",
      "Train Acc : 1.000, Loss : 0.00019693 | epoch : 99000, time : 00:44:12\n",
      "Test  Acc : 0.797, Loss : 2.80420043\n",
      "Train Acc : 1.000, Loss : 0.00019406 | epoch : 100000, time : 00:44:39\n",
      "Test  Acc : 0.796, Loss : 2.80728319\n",
      "Train Acc : 1.000, Loss : 0.00019165 | epoch : 101000, time : 00:45:05\n",
      "Test  Acc : 0.797, Loss : 2.80987478\n",
      "Train Acc : 1.000, Loss : 0.00018944 | epoch : 102000, time : 00:45:32\n",
      "Test  Acc : 0.797, Loss : 2.81228286\n",
      "Train Acc : 1.000, Loss : 0.00018731 | epoch : 103000, time : 00:45:59\n",
      "Test  Acc : 0.797, Loss : 2.81468273\n",
      "Train Acc : 1.000, Loss : 0.00018518 | epoch : 104000, time : 00:46:25\n",
      "Test  Acc : 0.797, Loss : 2.81713125\n",
      "Train Acc : 1.000, Loss : 0.00018295 | epoch : 105000, time : 00:46:52\n",
      "Test  Acc : 0.797, Loss : 2.81966188\n",
      "Train Acc : 1.000, Loss : 0.00018029 | epoch : 106000, time : 00:47:19\n",
      "Test  Acc : 0.797, Loss : 2.82233063\n",
      "Train Acc : 1.000, Loss : 0.00017638 | epoch : 107000, time : 00:47:45\n",
      "Test  Acc : 0.797, Loss : 2.82519048\n",
      "Train Acc : 1.000, Loss : 0.00017265 | epoch : 108000, time : 00:48:12\n",
      "Test  Acc : 0.797, Loss : 2.82782259\n",
      "Train Acc : 1.000, Loss : 0.00017048 | epoch : 109000, time : 00:48:39\n",
      "Test  Acc : 0.797, Loss : 2.82995095\n",
      "Train Acc : 1.000, Loss : 0.00016843 | epoch : 110000, time : 00:49:06\n",
      "Test  Acc : 0.797, Loss : 2.83210236\n",
      "Train Acc : 1.000, Loss : 0.00016627 | epoch : 111000, time : 00:49:32\n",
      "Test  Acc : 0.797, Loss : 2.83445125\n",
      "Train Acc : 1.000, Loss : 0.00016399 | epoch : 112000, time : 00:49:59\n",
      "Test  Acc : 0.797, Loss : 2.83701328\n",
      "Train Acc : 1.000, Loss : 0.00016170 | epoch : 113000, time : 00:50:26\n",
      "Test  Acc : 0.797, Loss : 2.83969738\n",
      "Train Acc : 1.000, Loss : 0.00015942 | epoch : 114000, time : 00:50:52\n",
      "Test  Acc : 0.797, Loss : 2.84236217\n",
      "Train Acc : 1.000, Loss : 0.00015731 | epoch : 115000, time : 00:51:19\n",
      "Test  Acc : 0.797, Loss : 2.84483946\n",
      "Train Acc : 1.000, Loss : 0.00015552 | epoch : 116000, time : 00:51:46\n",
      "Test  Acc : 0.797, Loss : 2.84709924\n",
      "Train Acc : 1.000, Loss : 0.00015392 | epoch : 117000, time : 00:52:12\n",
      "Test  Acc : 0.797, Loss : 2.84926349\n",
      "Train Acc : 1.000, Loss : 0.00015241 | epoch : 118000, time : 00:52:41\n",
      "Test  Acc : 0.797, Loss : 2.85138855\n",
      "Train Acc : 1.000, Loss : 0.00015096 | epoch : 119000, time : 00:53:07\n",
      "Test  Acc : 0.797, Loss : 2.85348445\n",
      "Train Acc : 1.000, Loss : 0.00014955 | epoch : 120000, time : 00:53:34\n",
      "Test  Acc : 0.797, Loss : 2.85555361\n",
      "Train Acc : 1.000, Loss : 0.00014817 | epoch : 121000, time : 00:54:01\n",
      "Test  Acc : 0.797, Loss : 2.85759944\n",
      "Train Acc : 1.000, Loss : 0.00014682 | epoch : 122000, time : 00:54:27\n",
      "Test  Acc : 0.797, Loss : 2.85962658\n",
      "Train Acc : 1.000, Loss : 0.00014549 | epoch : 123000, time : 00:54:54\n",
      "Test  Acc : 0.797, Loss : 2.86164041\n",
      "Train Acc : 1.000, Loss : 0.00014418 | epoch : 124000, time : 00:55:21\n",
      "Test  Acc : 0.797, Loss : 2.86364691\n",
      "Train Acc : 1.000, Loss : 0.00014289 | epoch : 125000, time : 00:55:48\n",
      "Test  Acc : 0.797, Loss : 2.86565300\n",
      "Train Acc : 1.000, Loss : 0.00014159 | epoch : 126000, time : 00:56:14\n",
      "Test  Acc : 0.797, Loss : 2.86766718\n",
      "Train Acc : 1.000, Loss : 0.00014029 | epoch : 127000, time : 00:56:41\n",
      "Test  Acc : 0.797, Loss : 2.86969992\n",
      "Train Acc : 1.000, Loss : 0.00013897 | epoch : 128000, time : 00:57:08\n",
      "Test  Acc : 0.797, Loss : 2.87176207\n",
      "Train Acc : 1.000, Loss : 0.00013761 | epoch : 129000, time : 00:57:35\n",
      "Test  Acc : 0.797, Loss : 2.87385514\n",
      "Train Acc : 1.000, Loss : 0.00013622 | epoch : 130000, time : 00:58:01\n",
      "Test  Acc : 0.797, Loss : 2.87594461\n",
      "Train Acc : 1.000, Loss : 0.00013483 | epoch : 131000, time : 00:58:28\n",
      "Test  Acc : 0.797, Loss : 2.87794104\n",
      "Train Acc : 1.000, Loss : 0.00013352 | epoch : 132000, time : 00:58:55\n",
      "Test  Acc : 0.797, Loss : 2.87977499\n",
      "Train Acc : 1.000, Loss : 0.00013230 | epoch : 133000, time : 00:59:21\n",
      "Test  Acc : 0.797, Loss : 2.88147777\n",
      "Train Acc : 1.000, Loss : 0.00013114 | epoch : 134000, time : 00:59:48\n",
      "Test  Acc : 0.797, Loss : 2.88311721\n",
      "Train Acc : 1.000, Loss : 0.00013003 | epoch : 135000, time : 01:00:15\n",
      "Test  Acc : 0.797, Loss : 2.88473672\n",
      "Train Acc : 1.000, Loss : 0.00012896 | epoch : 136000, time : 01:00:41\n",
      "Test  Acc : 0.797, Loss : 2.88635434\n",
      "Train Acc : 1.000, Loss : 0.00012791 | epoch : 137000, time : 01:01:08\n",
      "Test  Acc : 0.797, Loss : 2.88797480\n",
      "Train Acc : 1.000, Loss : 0.00012689 | epoch : 138000, time : 01:01:35\n",
      "Test  Acc : 0.796, Loss : 2.88959751\n",
      "Loss is converged. epoch 138516\n",
      "Training Process Ended\n"
     ]
    }
   ],
   "source": [
    "ml4 = ML([196,49,10],lr= 5e-3,loss_conv = 1e-9,weight_decay=1e-3,monitoring_epoch=1000)"
   ]
  },
  {
   "cell_type": "code",
   "execution_count": 18,
   "metadata": {},
   "outputs": [
    {
     "data": {
      "image/png": "[encoded data removed]",
      "text/plain": [
       "<Figure size 432x288 with 10 Axes>"
      ]
     },
     "metadata": {
      "needs_background": "light"
     },
     "output_type": "display_data"
    }
   ],
   "source": [
    "ml.show_correct_example()"
   ]
  },
  {
   "cell_type": "code",
   "execution_count": 20,
   "metadata": {},
   "outputs": [
    {
     "data": {
      "image/png": "[encoded data removed]",
      "text/plain": [
       "<Figure size 432x288 with 10 Axes>"
      ]
     },
     "metadata": {
      "needs_background": "light"
     },
     "output_type": "display_data"
    }
   ],
   "source": [
    "ml.show_incorrect_example()"
   ]
  },
  {
   "cell_type": "code",
   "execution_count": 21,
   "metadata": {},
   "outputs": [
    {
     "name": "stdout",
     "output_type": "stream",
     "text": [
      "Final Training Acc : 100.000%\n",
      "Final Testing Acc : 80.889%\n"
     ]
    }
   ],
   "source": [
    "ml.show_final_acc()"
   ]
  },
  {
   "cell_type": "code",
   "execution_count": 23,
   "metadata": {},
   "outputs": [
    {
     "data": {
      "image/png": "[encoded data removed]",
      "text/plain": [
       "<Figure size 432x288 with 1 Axes>"
      ]
     },
     "metadata": {
      "needs_background": "light"
     },
     "output_type": "display_data"
    }
   ],
   "source": [
    "ml.show_loss_curve()"
   ]
  },
  {
   "cell_type": "code",
   "execution_count": 24,
   "metadata": {},
   "outputs": [
    {
     "data": {
      "image/png": "[encoded data removed]",
      "text/plain": [
       "<Figure size 432x288 with 1 Axes>"
      ]
     },
     "metadata": {
      "needs_background": "light"
     },
     "output_type": "display_data"
    }
   ],
   "source": [
    "ml.show_acc_curve()"
   ]
  },
  {
   "cell_type": "code",
   "execution_count": null,
   "metadata": {},
   "outputs": [],
   "source": [
    "ml3 = ML([196,49,10],lr= 1e-3,loss_conv = 1e-7,weight_decay=1e-2,monitoring_epoch=1000)"
   ]
  },
  {
   "cell_type": "code",
   "execution_count": null,
   "metadata": {},
   "outputs": [],
   "source": [
    "ml4 = ML([1400,700,400,250,130,60,30,10],lr= 1e-3,loss_conv = 1e-7,weight_decay=1e-4,monitoring_epoch=1000)"
   ]
  },
  {
   "cell_type": "code",
   "execution_count": null,
   "metadata": {},
   "outputs": [],
   "source": [
    "ml2.show_final_acc()"
   ]
  },
  {
   "cell_type": "code",
   "execution_count": null,
   "metadata": {},
   "outputs": [],
   "source": [
    "ml.show_correct_example()"
   ]
  },
  {
   "cell_type": "code",
   "execution_count": null,
   "metadata": {},
   "outputs": [],
   "source": [
    "ml.show_incorrect_example()"
   ]
  },
  {
   "cell_type": "code",
   "execution_count": null,
   "metadata": {},
   "outputs": [],
   "source": [
    "ml.show_loss_curve()"
   ]
  },
  {
   "cell_type": "code",
   "execution_count": null,
   "metadata": {},
   "outputs": [],
   "source": [
    "ml.show_acc_curve()"
   ]
  },
  {
   "cell_type": "code",
   "execution_count": null,
   "metadata": {},
   "outputs": [],
   "source": [
    "ml.show_final_acc()"
   ]
  },
  {
   "cell_type": "code",
   "execution_count": null,
   "metadata": {},
   "outputs": [],
   "source": [
    "# list for show examples\n",
    "list_correct_image = np.array(result_test[\"correct_image\"]).T\n",
    "list_correct_label = result_test[\"correct_label\"]\n",
    "list_incorrect_image = np.array(result_test[\"incorrect_image\"]).T\n",
    "list_incorrect_label = result_test[\"incorrect_label\"]"
   ]
  },
  {
   "cell_type": "markdown",
   "metadata": {},
   "source": [
    "# Plot the loss curve"
   ]
  },
  {
   "cell_type": "code",
   "execution_count": null,
   "metadata": {},
   "outputs": [],
   "source": [
    "plt.title(\"Loss curve\")\n",
    "plot_1, = plt.plot(result_train[\"epoch\"],result_train[\"loss\"], color='b',linewidth=2,alpha=0.8)\n",
    "plot_2, = plt.plot(result_test[\"epoch\"],result_test[\"loss\"], color='r',linewidth=2,alpha=0.8)\n",
    "plt.legend([plot_1,plot_2],[\"Training\",\"Testing\"])\n"
   ]
  },
  {
   "cell_type": "markdown",
   "metadata": {},
   "source": [
    "# Plot the accuracy curve"
   ]
  },
  {
   "cell_type": "code",
   "execution_count": null,
   "metadata": {},
   "outputs": [],
   "source": [
    "plt.title(\"Accuracy curve\")\n",
    "plot_1, = plt.plot(result_train[\"epoch\"],result_train[\"acc\"], color='b',linewidth=2,alpha=0.8)\n",
    "plot_2, = plt.plot(result_test[\"epoch\"],result_test[\"acc\"], color='r',linewidth=2,alpha=0.8)\n",
    "plt.legend([plot_1,plot_2],[\"Training\",\"Testing\"])"
   ]
  },
  {
   "cell_type": "markdown",
   "metadata": {},
   "source": [
    "# Plot the accuracy value"
   ]
  },
  {
   "cell_type": "code",
   "execution_count": null,
   "metadata": {},
   "outputs": [],
   "source": [
    "print(\"Final Training Acc : {:.3f}%\\nFinal Testing Acc : {:.3f}%\".format(result_train[\"acc\"][-1]*100,result_test[\"acc\"][-1]*100))"
   ]
  },
  {
   "cell_type": "markdown",
   "metadata": {},
   "source": [
    "# Plot the classification example"
   ]
  },
  {
   "cell_type": "markdown",
   "metadata": {},
   "source": [
    "## Correctly classified testing images"
   ]
  },
  {
   "cell_type": "code",
   "execution_count": null,
   "metadata": {},
   "outputs": [],
   "source": [
    "show_example(list_correct_image,list_correct_label)\n",
    "print(list_correct_label)"
   ]
  },
  {
   "cell_type": "markdown",
   "metadata": {},
   "source": [
    "## Misclassified testing images"
   ]
  },
  {
   "cell_type": "code",
   "execution_count": null,
   "metadata": {},
   "outputs": [],
   "source": [
    "show_example(list_incorrect_image,list_incorrect_label)"
   ]
  }
 ],
 "metadata": {
  "kernelspec": {
   "display_name": "Python 3",
   "language": "python",
   "name": "python3"
  },
  "language_info": {
   "codemirror_mode": {
    "name": "ipython",
    "version": 3
   },
   "file_extension": ".py",
   "mimetype": "text/x-python",
   "name": "python",
   "nbconvert_exporter": "python",
   "pygments_lexer": "ipython3",
   "version": "3.6.9"
  }
 },
 "nbformat": 4,
 "nbformat_minor": 4
}

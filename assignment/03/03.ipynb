{
 "cells": [
  {
   "cell_type": "code",
   "execution_count": 2,
   "metadata": {},
   "outputs": [],
   "source": [
    "import matplotlib.pyplot as plt\n",
    "import math\n",
    "import numpy as np\n",
    "import random\n",
    "import torch\n",
    "from torch.utils.data import Dataset, DataLoader\n",
    "import torchvision.transforms as transforms\n",
    "import torchvision\n",
    "import os\n",
    "from random import *"
   ]
  },
  {
   "cell_type": "code",
   "execution_count": 4,
   "metadata": {},
   "outputs": [
    {
     "name": "stdout",
     "output_type": "stream",
     "text": [
      "Using device: cuda\n",
      "\n",
      "GeForce RTX 2060 SUPER\n",
      "Memory Usage:\n",
      "Allocated: 0.0 GB\n",
      "Cached:    0.0 GB\n"
     ]
    }
   ],
   "source": [
    "### Setting up Device\n",
    "device = torch.device('cuda' if torch.cuda.is_available() else 'cpu')\n",
    "# Below codes activates when want to use cpu\n",
    "#device = torch.device('cpu')\n",
    "print('Using device:', device)\n",
    "print()\n",
    "\n",
    "#Additional Info when using cuda\n",
    "if device.type == 'cuda':\n",
    "    print(torch.cuda.get_device_name(0))\n",
    "    print('Memory Usage:')\n",
    "    print('Allocated:', round(torch.cuda.memory_allocated(0)/1024**3,1), 'GB')\n",
    "    print('Cached:   ', round(torch.cuda.memory_cached(0)/1024**3,1), 'GB')"
   ]
  },
  {
   "cell_type": "code",
   "execution_count": 7,
   "metadata": {},
   "outputs": [
    {
     "data": {
      "image/png": "[encoded data removed]",
      "text/plain": [
       "<Figure size 576x576 with 1 Axes>"
      ]
     },
     "metadata": {
      "needs_background": "light"
     },
     "output_type": "display_data"
    }
   ],
   "source": [
    "# Plot the input datas\n",
    "path = \"./data.csv\"\n",
    "data = np.genfromtxt(path, delimiter=',')\n",
    "\n",
    "x_data = data[:, 0]\n",
    "y_data = data[:, 1]\n",
    "\n",
    "# Variables for plot line\n",
    "min_x_data = min(x_data)\n",
    "max_x_data = max(x_data)\n",
    "\n",
    "plt.figure(figsize=(8, 8))\n",
    "plt.scatter(x_data, y_data, alpha=0.8, color='black', marker = 'o', s = 10)\n",
    "plt.show()\n"
   ]
  },
  {
   "cell_type": "code",
   "execution_count": 8,
   "metadata": {},
   "outputs": [],
   "source": [
    "# Type Initialize thetas for using torch lib.\\\n",
    "\n",
    "x_data = torch.FloatTensor(x_data).to(device)\n",
    "y_data = torch.FloatTensor(y_data).to(device)\n",
    "data = torch.FloatTensor(data).to(device)"
   ]
  },
  {
   "cell_type": "code",
   "execution_count": 11,
   "metadata": {},
   "outputs": [
    {
     "name": "stdout",
     "output_type": "stream",
     "text": [
      "Loss is converged\n",
      "epoch 6548, theta0 24.87132, theta1 9.93408, loss 27.4681529999\n"
     ]
    }
   ],
   "source": [
    "#Linear Regression\n",
    "\n",
    "def get_y(t0,t1,x) :\n",
    "    return t0 + t1*x\n",
    "\n",
    "\n",
    "# Initialize thetas for Learning \n",
    "hth0 = torch.FloatTensor([1.0]).to(device)\n",
    "hth1 = torch.FloatTensor([1.0]).to(device)\n",
    "\n",
    "# Setting Step-size. (Learning-rate)\n",
    "lr = 0.001\n",
    "\n",
    "# Setting converge value\n",
    "loss_conv = 1e-7 # loss converge standard\n",
    "\n",
    "# Lists for logging\n",
    "loss_log = []\n",
    "hth0_log = []\n",
    "hth1_log = []\n",
    "epoch_log = []\n",
    "conv_count = 0 # Variable To count converge\n",
    "epoch = 0 # Inital epoch value\n",
    "\n",
    "while (True) :\n",
    "    epoch +=1\n",
    "    epoch_log.append(epoch)\n",
    "    \n",
    "    # Get y hat value\n",
    "    yh = hth0 + hth1 * x_data\n",
    "    m = len(y_data)\n",
    "    # Get Energy(Loss) value \n",
    "    loss = (1/(2*m)) * torch.sum((yh - y_data)**2)\n",
    "    \n",
    "    # Logging Status\n",
    "    loss_log.append(loss)\n",
    "    hth0_log.append(hth0)\n",
    "    hth1_log.append(hth1)\n",
    "    \n",
    "    # Updating Parameters - Gradient Descent\n",
    "    hth0 = hth0 - lr * (1/m) * torch.sum((yh-y_data))\n",
    "    hth1 = hth1 - lr * (1/m) * torch.sum((yh-y_data)*x_data)\n",
    "    \n",
    "    # Check Loss value converge\n",
    "    if len(loss_log) > 2 :\n",
    "        if abs(loss_log[-1] - loss_log[-2]) < loss_conv :\n",
    "            conv_count += 1\n",
    "        else :\n",
    "            conv_count = 0\n",
    "            \n",
    "    if conv_count > 3 :\n",
    "        print(\"Loss is converged\")\n",
    "        print(\"epoch {}, theta0 {:.5f}, theta1 {:.5f}, loss {:.10f}\".format(epoch,hth0.item(),hth1.item(),loss_log[-1]))\n",
    "                                                         \n",
    "        break\n",
    "\n",
    "\n",
    "        "
   ]
  },
  {
   "cell_type": "code",
   "execution_count": 13,
   "metadata": {},
   "outputs": [
    {
     "data": {
      "image/png": "[encoded data removed]",
      "text/plain": [
       "<Figure size 432x288 with 1 Axes>"
      ]
     },
     "metadata": {
      "needs_background": "light"
     },
     "output_type": "display_data"
    }
   ],
   "source": [
    "# Plotting the linear regression Result\n",
    "\n",
    "device = torch.device('cpu')\n",
    "\n",
    "x_data = x_data.to(device)\n",
    "y_data = y_data.to(device)\n",
    "\n",
    "# Output results\n",
    "plot1 = plt.scatter(x_data, y_data, color='black',marker='o',s=3)\n",
    "plot2, = plt.plot([min_x_data, max_x_data],[get_y(hth0,hth1,min_x_data),get_y(hth0,hth1,max_x_data)], color='red',linewidth=3)\n",
    "plot2.LineWidth=1\n",
    "\n",
    "plt.title(\"Output results\") \n",
    "plt.legend([plot1,plot2],[\"Input Datas\",\"Output Line\"])\n",
    "plt.show()"
   ]
  }
 ],
 "metadata": {
  "kernelspec": {
   "display_name": "Python 3",
   "language": "python",
   "name": "python3"
  },
  "language_info": {
   "codemirror_mode": {
    "name": "ipython",
    "version": 3
   },
   "file_extension": ".py",
   "mimetype": "text/x-python",
   "name": "python",
   "nbconvert_exporter": "python",
   "pygments_lexer": "ipython3",
   "version": "3.6.9"
  }
 },
 "nbformat": 4,
 "nbformat_minor": 4
}

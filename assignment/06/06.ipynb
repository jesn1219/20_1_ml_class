{
 "cells": [
  {
   "cell_type": "code",
   "execution_count": 1,
   "metadata": {},
   "outputs": [],
   "source": [
    "# Writer : JESOON KANG, Dept. of Computer Science & Engineering in Chung-Ang University\n",
    "# Last-Modified Date : April 30,2020"
   ]
  },
  {
   "cell_type": "code",
   "execution_count": 2,
   "metadata": {},
   "outputs": [],
   "source": [
    "import matplotlib.pyplot as plt\n",
    "import math\n",
    "import numpy as np\n",
    "import random\n",
    "import torch\n",
    "from torch.utils.data import Dataset, DataLoader\n",
    "import torchvision.transforms as transforms\n",
    "import torchvision\n",
    "import os\n",
    "import time\n",
    "import datetime\n",
    "from random import *"
   ]
  },
  {
   "cell_type": "code",
   "execution_count": 3,
   "metadata": {},
   "outputs": [
    {
     "name": "stdout",
     "output_type": "stream",
     "text": [
      "Using device: cuda\n",
      "\n",
      "GeForce RTX 2060 SUPER\n",
      "Memory Usage:\n",
      "Allocated: 0.0 GB\n",
      "Cached:    0.0 GB\n"
     ]
    }
   ],
   "source": [
    "### Setting up Device\n",
    "device = torch.device('cuda' if torch.cuda.is_available() else 'cpu')\n",
    "# Below codes activates when want to use cpu\n",
    "#device = torch.device('cpu')\n",
    "print('Using device:', device)\n",
    "print()\n",
    "\n",
    "#Additional Info when using cuda\n",
    "if device.type == 'cuda':\n",
    "    print(torch.cuda.get_device_name(0))\n",
    "    print('Memory Usage:')\n",
    "    print('Allocated:', round(torch.cuda.memory_allocated(0)/1024**3,1), 'GB')\n",
    "    print('Cached:   ', round(torch.cuda.memory_cached(0)/1024**3,1), 'GB')"
   ]
  },
  {
   "cell_type": "code",
   "execution_count": 4,
   "metadata": {},
   "outputs": [
    {
     "data": {
      "image/png": "[encoded data removed]",
      "text/plain": [
       "<Figure size 576x576 with 1 Axes>"
      ]
     },
     "metadata": {
      "needs_background": "light"
     },
     "output_type": "display_data"
    }
   ],
   "source": [
    "# Plot the training data\n",
    "import numpy as np\n",
    "import matplotlib.pyplot as plt\n",
    "\n",
    "data    = np.genfromtxt(\"data-nonlinear.txt\", delimiter=',')\n",
    "\n",
    "x       = data[:, 0]\n",
    "y       = data[:, 1]\n",
    "label   = data[:, 2]\n",
    "\n",
    "x_label0    = x[label == 0]\n",
    "y_label0    = y[label == 0]\n",
    "\n",
    "x_label1    = x[label == 1]\n",
    "y_label1    = y[label == 1]\n",
    "\n",
    "plt.figure(figsize=(8, 8))\n",
    "plt.scatter(x_label0, y_label0, alpha=0.9, c='b')\n",
    "plt.scatter(x_label1, y_label1, alpha=0.9, c='r')\n",
    "plt.show()"
   ]
  },
  {
   "cell_type": "code",
   "execution_count": 5,
   "metadata": {},
   "outputs": [],
   "source": [
    "x = torch.DoubleTensor(x).to('cuda')\n",
    "y = torch.DoubleTensor(y).to('cuda')\n",
    "label = torch.DoubleTensor(label).to('cuda')\n",
    "x = x.unsqueeze(1)\n",
    "y = y.unsqueeze(1)\n",
    "label = label.unsqueeze(1)"
   ]
  },
  {
   "cell_type": "code",
   "execution_count": 7,
   "metadata": {},
   "outputs": [],
   "source": [
    "def show_graph (thetas) :\n",
    "    thetas_len = len(thetas)\n",
    "    \n",
    "    mesh_x = torch.linspace(-2,2,256,dtype=torch.double).to('cuda')\n",
    "    mesh_y = torch.linspace(-2,2,256,dtype=torch.double).to('cuda')\n",
    "    XX, YY = torch.meshgrid(mesh_x,mesh_y)\n",
    "    if thetas_len == 10 :\n",
    "        ZZ = get_function_3(XX,YY)\n",
    "    elif thetas_len == 16 :\n",
    "        ZZ = get_function_4(XX,YY)\n",
    "\n",
    "    ZZ = torch.reshape(ZZ,(thetas_len,65536))\n",
    "    ZZ = torch.matmul(thetas.T,ZZ)\n",
    "    ZZ = torch.reshape(ZZ,(256,256))\n",
    "    yh = 1 / (1 + torch.exp(-ZZ))\n",
    "    plt.figure(figsize=(6, 6))\n",
    "    plt.scatter(x_label0, y_label0, alpha=0.9, c='b')\n",
    "    plt.scatter(x_label1, y_label1, alpha=0.9, c='r')\n",
    "    plt.contour(XX.cpu(), YY.cpu(), yh.cpu(), levels= [0.5])\n",
    "    plt.show()\n",
    "    \n",
    "def get_running_time(start_time) :\n",
    "    running_time = datetime.datetime.now() - start_time\n",
    "    running_time = running_time.seconds\n",
    "    hours, remainder = divmod(running_time, 3600)\n",
    "    minutes, seconds = divmod(remainder, 60)\n",
    "    return hours, minutes, seconds"
   ]
  },
  {
   "cell_type": "code",
   "execution_count": 8,
   "metadata": {},
   "outputs": [],
   "source": [
    "def get_function_4(x,y) :\n",
    "    constant = torch.ones(x.shape,dtype=torch.float64).to('cuda')\n",
    "    ret = torch.stack((constant,x,y,\\\n",
    "                       x*y,x**2,y**2,\\\n",
    "                       x**2*y, x*y**2,x**3,y**3,\\\n",
    "                       x**3*y, x*y**3,\\\n",
    "                       x**3*y**2,x**2*y**3,\\\n",
    "                       x**3*y**3,x**5*y**5\\\n",
    "                      ))\n",
    "    ret = ret.squeeze(-1)\n",
    "    return ret\n"
   ]
  },
  {
   "cell_type": "code",
   "execution_count": 9,
   "metadata": {
    "scrolled": true
   },
   "outputs": [
    {
     "name": "stdout",
     "output_type": "stream",
     "text": [
      "lr : 0.001, epoch 100000,loss 0.5303534749, acc 0.788, time : 00:02:28\n",
      "lr : 0.001, epoch 200000,loss 0.4513498734, acc 0.797, time : 00:04:55\n",
      "lr : 0.001, epoch 300000,loss 0.4141496496, acc 0.805, time : 00:07:23\n",
      "lr : 0.001, epoch 400000,loss 0.3931248829, acc 0.805, time : 00:09:50\n",
      "lr : 0.001, epoch 500000,loss 0.3798774874, acc 0.822, time : 00:12:18\n",
      "lr : 0.001, epoch 600000,loss 0.3709082310, acc 0.831, time : 00:14:47\n",
      "lr : 0.001, epoch 700000,loss 0.3645142010, acc 0.839, time : 00:17:14\n",
      "lr : 0.001, epoch 800000,loss 0.3597733111, acc 0.847, time : 00:19:42\n",
      "lr : 0.001, epoch 900000,loss 0.3561460441, acc 0.847, time : 00:22:10\n",
      "lr : 0.001, epoch 1000000,loss 0.3532976347, acc 0.847, time : 00:24:38\n",
      "lr : 0.001, epoch 1100000,loss 0.3510105881, acc 0.847, time : 00:27:07\n",
      "lr : 0.001, epoch 1200000,loss 0.3491382785, acc 0.847, time : 00:29:36\n",
      "lr : 0.001, epoch 1300000,loss 0.3475788132, acc 0.847, time : 00:32:03\n",
      "lr : 0.001, epoch 1400000,loss 0.3462595708, acc 0.847, time : 00:34:32\n",
      "lr : 0.001, epoch 1500000,loss 0.3451276724, acc 0.847, time : 00:37:00\n",
      "lr : 0.001, epoch 1600000,loss 0.3441439014, acc 0.847, time : 00:39:29\n",
      "lr : 0.001, epoch 1700000,loss 0.3432787088, acc 0.847, time : 00:41:57\n",
      "lr : 0.001, epoch 1800000,loss 0.3425095185, acc 0.847, time : 00:44:26\n",
      "lr : 0.001, epoch 1900000,loss 0.3418188697, acc 0.847, time : 00:46:55\n",
      "lr : 0.001, epoch 2000000,loss 0.3411931103, acc 0.856, time : 00:49:23\n",
      "lr : 0.001, epoch 2100000,loss 0.3406214612, acc 0.856, time : 00:51:51\n",
      "lr : 0.001, epoch 2200000,loss 0.3400953364, acc 0.856, time : 00:54:20\n",
      "Loss is converged\n",
      "##############################\n",
      "lr : 0.001, epoch 2215195,loss 0.3400189240, acc 0.856, time : 00:54:43\n",
      "##############################\n"
     ]
    }
   ],
   "source": [
    "\n",
    "# Setting Step-size. (Learning-rate)\n",
    "lr = 1e-3\n",
    "lr = torch.DoubleTensor([lr]).to('cuda')\n",
    "\n",
    "# Setting converge value\n",
    "loss_conv = 5e-9 # loss converge standard\n",
    "\n",
    "# Lists for logging\n",
    "loss_log = []\n",
    "epoch_log = []\n",
    "acc_log = []\n",
    "conv_count = 0 # Variable To count converge\n",
    "epoch = 0 # Inital epoch value\n",
    "\n",
    "thetas = torch.ones((16,1),dtype=torch.float64).to('cuda') \n",
    "fx = get_function_4(x,y)\n",
    "\n",
    "start_time = datetime.datetime.now()\n",
    "while (True) :\n",
    "    epoch +=1\n",
    "    epoch_log.append(epoch)\n",
    "    z = torch.matmul(thetas.T,fx)\n",
    "    z = z.T\n",
    "    activ_values = 1 / (1+torch.exp(-z))\n",
    "    m = len(activ_values)\n",
    "    \n",
    "    # Get Loss \n",
    "    loss = (1/m) * torch.sum( \\\n",
    "                             -label*torch.log(activ_values) - (1-label)*torch.log(1 - activ_values))\n",
    "    # Logging\n",
    "    loss_log.append(loss)\n",
    "    \n",
    "    # Updating Parameters - Gradient Descent\n",
    "    thetas[0] -= lr * (1/m) * torch.sum(activ_values-label)\n",
    "    thetas[1] -= lr * (1/m) * torch.sum( (activ_values-label)* x)\n",
    "    thetas[2] -= lr * (1/m) * torch.sum( (activ_values-label)* y)\n",
    "    thetas[3] -= lr * (1/m) * torch.sum( (activ_values-label)* x*y)\n",
    "    thetas[4] -= lr * (1/m) * torch.sum( (activ_values-label)* x**2)\n",
    "    thetas[5] -= lr * (1/m) * torch.sum( (activ_values-label)* y**2)\n",
    "    thetas[6] -= lr * (1/m) * torch.sum( (activ_values-label)* x**2*y)\n",
    "    thetas[7] -= lr * (1/m) * torch.sum( (activ_values-label)* x*y**2)\n",
    "    thetas[8] -= lr * (1/m) * torch.sum( (activ_values-label)* x**3)\n",
    "    thetas[9] -= lr * (1/m) * torch.sum( (activ_values-label)* y**3)\n",
    "    thetas[10] -= lr * (1/m) * torch.sum( (activ_values-label)* x**3*y)\n",
    "    thetas[11] -= lr * (1/m) * torch.sum( (activ_values-label)* x*y**3)\n",
    "    thetas[12] -= lr * (1/m) * torch.sum( (activ_values-label)* x**3*y**2)\n",
    "    thetas[13] -= lr * (1/m) * torch.sum( (activ_values-label)* x**2*y**3)\n",
    "    thetas[14] -= lr * (1/m) * torch.sum( (activ_values-label)* x**3*y**3)\n",
    "    thetas[15] -= lr * (1/m) * torch.sum( (activ_values-label)* y**5*y**5)\n",
    "    \n",
    "\n",
    "    ## Does Train Loss Converged?\n",
    "    if len(loss_log) > 2 :\n",
    "        if abs(loss_log[-1] - loss_log[-2]) < loss_conv :\n",
    "            conv_count += 1\n",
    "        else :\n",
    "            conv_count = 0\n",
    "    \n",
    "    # For monitor\n",
    "    if epoch %100000 == 0 :\n",
    "        acc = 0\n",
    "        for i in range(0,len(activ_values)) :\n",
    "            if activ_values[i] >= 0.5 :\n",
    "                if label[i] == 1 :\n",
    "                    acc += 1\n",
    "            else :\n",
    "                if label[i] == 0 :\n",
    "                    acc += 1\n",
    "        acc = acc / len(activ_values)\n",
    "        acc_log.append(acc)\n",
    "        \n",
    "        running_time = get_running_time(start_time)\n",
    "        \n",
    "        print(\"lr : {}, epoch {},loss {:.10f}, acc {:.3f}, time : {:02d}:{:02d}:{:02d}\".\\\n",
    "              format(lr.item(), epoch,loss_log[-1],acc_log[-1],running_time[0],running_time[1],running_time[2]) )\n",
    "        #show_graph(thetas)\n",
    "    ## Escape if Training loss is converged\n",
    "    if conv_count > 4 :\n",
    "\n",
    "        print(\"Loss is converged\")\n",
    "        print(\"#\"*30)\n",
    "        running_time = get_running_time(start_time)\n",
    "\n",
    "        print(\"lr : {}, epoch {},loss {:.10f}, acc {:.3f}, time : {:02d}:{:02d}:{:02d}\".\\\n",
    "              format(lr.item(), epoch,loss_log[-1],acc_log[-1],running_time[0],running_time[1],running_time[2]) )               \n",
    "        print(\"#\"*30)\n",
    "        \n",
    "        break"
   ]
  },
  {
   "cell_type": "code",
   "execution_count": 10,
   "metadata": {},
   "outputs": [],
   "source": [
    "\\from IPython.display import display, Math, Latex"
   ]
  },
  {
   "cell_type": "markdown",
   "metadata": {},
   "source": [
    "# Result Section"
   ]
  },
  {
   "cell_type": "markdown",
   "metadata": {},
   "source": [
    "# 1. Plot the training data"
   ]
  },
  {
   "cell_type": "code",
   "execution_count": 11,
   "metadata": {},
   "outputs": [
    {
     "data": {
      "image/png": "[encoded data removed]",
      "text/plain": [
       "<Figure size 576x576 with 1 Axes>"
      ]
     },
     "metadata": {
      "needs_background": "light"
     },
     "output_type": "display_data"
    }
   ],
   "source": [
    "plt.figure(figsize=(8, 8))\n",
    "plt.scatter(x_label0, y_label0, alpha=0.9, c='b')\n",
    "plt.scatter(x_label1, y_label1, alpha=0.9, c='r')\n",
    "plt.show()"
   ]
  },
  {
   "cell_type": "markdown",
   "metadata": {},
   "source": [
    "# 2. Write down the high dimensional function $g(x, y); \\theta)$"
   ]
  },
  {
   "cell_type": "markdown",
   "metadata": {},
   "source": [
    "${\\Large\n",
    "  g(x, y ; \\theta) =\n",
    "  1\\times \n",
    "  f_{0}(x, y)\n",
    "  + x f_{1}(x, y)\n",
    "  + y f_{2}(x, y)\n",
    "  \\\\ \\Large\n",
    "  + xy f_{3}(x, y)\n",
    "  + x^{2} f_{4}(x, y)\n",
    "  + y^{2} f_{5}(x, y)\n",
    "  + x^{2}y f_{6}(x, y)\n",
    "  \\\\ \\Large\n",
    "  + xy^{2} f_{7}(x, y)\n",
    "  + x^{3} f_{8}(x, y)\n",
    "  + y^{3} f_{9}(x, y)\n",
    "  + x^{3}y f_{10}(x, y)\n",
    "  \\\\ \\Large\n",
    "  + xy^{3} f_{11}(x, y)\n",
    "  + x^{3}y^{2} f_{12}(x, y)\n",
    "  + x^{2}y^{3} f_{13}(x, y)\n",
    "  + x^{3}y^{3} f_{14}(x, y)\n",
    "  + x^{5}y^{5} f_{15}(x, y)\n",
    "}$\n"
   ]
  },
  {
   "cell_type": "markdown",
   "metadata": {},
   "source": [
    "# 3. Plot the training error"
   ]
  },
  {
   "cell_type": "code",
   "execution_count": 12,
   "metadata": {
    "scrolled": true
   },
   "outputs": [
    {
     "name": "stdout",
     "output_type": "stream",
     "text": [
      "Converged Training loss : 0.34002\n"
     ]
    },
    {
     "name": "stderr",
     "output_type": "stream",
     "text": [
      "/usr/local/lib/python3.6/dist-packages/IPython/core/pylabtools.py:132: UserWarning: Creating legend with loc=\"best\" can be slow with large amounts of data.\n",
      "  fig.canvas.print_figure(bytes_io, **kw)\n"
     ]
    },
    {
     "data": {
      "image/png": "[encoded data removed]",
      "text/plain": [
       "<Figure size 432x288 with 1 Axes>"
      ]
     },
     "metadata": {
      "needs_background": "light"
     },
     "output_type": "display_data"
    }
   ],
   "source": [
    "plt.title(\"Training error\")\n",
    "plot, = plt.plot(epoch_log,loss_log, color='blue',linewidth=2,alpha=0.8)\n",
    "plt.legend([plot],[\"Trainging error\"])\n",
    "print(\"Converged Training loss : {:.5f}\".format(loss_log[-1].item()))"
   ]
  },
  {
   "cell_type": "markdown",
   "metadata": {},
   "source": [
    "# 5. Write down the final training accuracy"
   ]
  },
  {
   "cell_type": "markdown",
   "metadata": {},
   "source": [
    "## Final training accuracy : 85.6%"
   ]
  },
  {
   "cell_type": "markdown",
   "metadata": {},
   "source": [
    "# 6. Plot the optimal classifier superimposed on the training data"
   ]
  },
  {
   "cell_type": "code",
   "execution_count": 13,
   "metadata": {
    "scrolled": true
   },
   "outputs": [
    {
     "data": {
      "image/png": "[encoded data removed]",
      "text/plain": [
       "<Figure size 432x432 with 1 Axes>"
      ]
     },
     "metadata": {
      "needs_background": "light"
     },
     "output_type": "display_data"
    }
   ],
   "source": [
    "thetas_4 = thetas\n",
    "show_graph(thetas_4)"
   ]
  }
 ],
 "metadata": {
  "kernelspec": {
   "display_name": "Python 3",
   "language": "python",
   "name": "python3"
  },
  "language_info": {
   "codemirror_mode": {
    "name": "ipython",
    "version": 3
   },
   "file_extension": ".py",
   "mimetype": "text/x-python",
   "name": "python",
   "nbconvert_exporter": "python",
   "pygments_lexer": "ipython3",
   "version": "3.6.9"
  }
 },
 "nbformat": 4,
 "nbformat_minor": 4
}

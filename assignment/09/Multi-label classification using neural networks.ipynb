{
 "cells": [
  {
   "cell_type": "markdown",
   "metadata": {},
   "source": [
    "* Writer : Jesoon Kang, Chung-Ang University\n",
    "* last-modified date : May 28, 2020"
   ]
  },
  {
   "cell_type": "code",
   "execution_count": 1,
   "metadata": {},
   "outputs": [],
   "source": [
    "import matplotlib.pyplot as plt\n",
    "import numpy as np\n",
    "import torch\n",
    "import torchvision\n",
    "import math\n",
    "from IPython.display import display, Math, Latex\n",
    "import os\n",
    "import time\n",
    "import datetime\n",
    "\n",
    "\n",
    "file_data   = \"mnist.csv\"\n",
    "handle_file = open(file_data, \"r\")\n",
    "data        = handle_file.readlines()\n",
    "handle_file.close()\n",
    "\n",
    "size_row    = 28    # height of the image\n",
    "size_col    = 28    # width of the image\n",
    "\n",
    "num_image   = len(data)\n",
    "count       = 0     # count for the number of images"
   ]
  },
  {
   "cell_type": "code",
   "execution_count": 2,
   "metadata": {},
   "outputs": [],
   "source": [
    "#\n",
    "# normalize the values of the input data to be [0, 1]\n",
    "#\n",
    "def normalize(data):\n",
    "\n",
    "    data_normalized = (data - min(data)) / (max(data) - min(data))\n",
    "\n",
    "    return(data_normalized)"
   ]
  },
  {
   "cell_type": "code",
   "execution_count": 3,
   "metadata": {},
   "outputs": [],
   "source": [
    "#\n",
    "# example of distance function between two vectors x and y\n",
    "#\n",
    "def distance(x, y):\n",
    "\n",
    "    d = (x - y) ** 2\n",
    "    s = np.sum(d)\n",
    "    # r = np.sqrt(s)\n",
    "\n",
    "    return(s)"
   ]
  },
  {
   "cell_type": "code",
   "execution_count": 4,
   "metadata": {},
   "outputs": [],
   "source": [
    "#\n",
    "# make a matrix each column of which represents an images in a vector form\n",
    "#\n",
    "list_image  = np.empty((size_row * size_col, num_image), dtype=float)\n",
    "list_label  = np.empty(num_image, dtype=int)\n",
    "\n",
    "for line in data:\n",
    "\n",
    "    line_data   = line.split(',')\n",
    "    label       = line_data[0]\n",
    "    im_vector   = np.asfarray(line_data[1:])\n",
    "    im_vector   = normalize(im_vector)\n",
    "\n",
    "    list_label[count]       = label\n",
    "    list_image[:, count]    = im_vector\n",
    "\n",
    "    count += 1\n"
   ]
  },
  {
   "cell_type": "code",
   "execution_count": 6,
   "metadata": {},
   "outputs": [],
   "source": [
    "def sigmoid_grad(z):\n",
    "    sig_value =  1.0 / (1.0 + np.exp(-z))\n",
    "    return sig_value * (1 - sig_value)"
   ]
  },
  {
   "cell_type": "code",
   "execution_count": 37,
   "metadata": {},
   "outputs": [],
   "source": [
    "def show_example(list_image,list_label) :\n",
    "    f1 = plt.figure(1)\n",
    "    \n",
    "    for i in range(10):\n",
    "        label       = list_label[i]\n",
    "        im_vector   = list_image[:, i]\n",
    "        im_matrix   = im_vector.reshape((size_row, size_col))\n",
    "\n",
    "        plt.subplot(2, 5, i+1)\n",
    "        plt.title(label)\n",
    "        plt.imshow(im_matrix, cmap='Greys', interpolation='None')\n",
    "\n",
    "        frame   = plt.gca()\n",
    "        frame.axes.get_xaxis().set_visible(False)\n",
    "        frame.axes.get_yaxis().set_visible(False)\n",
    "    plt.show()    "
   ]
  },
  {
   "cell_type": "code",
   "execution_count": 49,
   "metadata": {},
   "outputs": [],
   "source": [
    "def get_running_time(start_time) :\n",
    "    running_time = datetime.datetime.now() - start_time\n",
    "    running_time = running_time.seconds\n",
    "    hours, remainder = divmod(running_time, 3600)\n",
    "    minutes, seconds = divmod(remainder, 60)\n",
    "    return hours, minutes, seconds"
   ]
  },
  {
   "cell_type": "code",
   "execution_count": 9,
   "metadata": {
    "scrolled": true
   },
   "outputs": [
    {
     "name": "stdout",
     "output_type": "stream",
     "text": [
      "---------- Training Start ----------\n",
      "Train Acc : 0.095, Loss : 27.26817995 | epoch : 100, time : 00:00:14\n",
      "Test  Acc : 0.103, Loss : 27.25409444\n",
      "Train Acc : 0.106, Loss : 11.94245248 | epoch : 200, time : 00:00:28\n",
      "Test  Acc : 0.107, Loss : 11.83576894\n",
      "Train Acc : 0.098, Loss : 16.66147691 | epoch : 300, time : 00:00:42\n",
      "Test  Acc : 0.097, Loss : 17.02737266\n",
      "Train Acc : 0.094, Loss : 29.92194146 | epoch : 400, time : 00:00:56\n",
      "Test  Acc : 0.099, Loss : 29.82891617\n",
      "Train Acc : 0.168, Loss : 14.00412175 | epoch : 500, time : 00:01:11\n",
      "Test  Acc : 0.160, Loss : 13.97048339\n",
      "Train Acc : 0.187, Loss : 17.41218985 | epoch : 600, time : 00:01:25\n",
      "Test  Acc : 0.196, Loss : 17.25856545\n",
      "Train Acc : 0.185, Loss : 15.93769513 | epoch : 700, time : 00:01:38\n",
      "Test  Acc : 0.195, Loss : 15.56053518\n",
      "Train Acc : 0.194, Loss : 13.19352926 | epoch : 800, time : 00:01:51\n",
      "Test  Acc : 0.201, Loss : 13.16997840\n",
      "Train Acc : 0.355, Loss : 6.45264693 | epoch : 900, time : 00:02:03\n",
      "Test  Acc : 0.343, Loss : 6.33698602\n",
      "Train Acc : 0.550, Loss : 3.51053834 | epoch : 1000, time : 00:02:15\n",
      "Test  Acc : 0.538, Loss : 3.67171940\n",
      "Train Acc : 0.851, Loss : 1.18529754 | epoch : 1100, time : 00:02:27\n",
      "Test  Acc : 0.813, Loss : 1.46588799\n",
      "Train Acc : 0.883, Loss : 0.93896414 | epoch : 1200, time : 00:02:41\n",
      "Test  Acc : 0.838, Loss : 1.26936726\n",
      "Train Acc : 0.955, Loss : 0.39689167 | epoch : 1300, time : 00:02:56\n",
      "Test  Acc : 0.875, Loss : 0.94099165\n",
      "Train Acc : 0.958, Loss : 0.33277536 | epoch : 1400, time : 00:03:09\n",
      "Test  Acc : 0.879, Loss : 0.88010263\n",
      "Train Acc : 0.961, Loss : 0.27837347 | epoch : 1500, time : 00:03:23\n",
      "Test  Acc : 0.881, Loss : 0.85601655\n",
      "Train Acc : 0.968, Loss : 0.23230190 | epoch : 1600, time : 00:03:36\n",
      "Test  Acc : 0.885, Loss : 0.83447589\n",
      "Train Acc : 0.973, Loss : 0.19507821 | epoch : 1700, time : 00:03:48\n",
      "Test  Acc : 0.887, Loss : 0.81019258\n",
      "Train Acc : 0.977, Loss : 0.17396131 | epoch : 1800, time : 00:04:00\n",
      "Test  Acc : 0.891, Loss : 0.80297146\n",
      "Train Acc : 0.978, Loss : 0.15997057 | epoch : 1900, time : 00:04:12\n",
      "Test  Acc : 0.891, Loss : 0.80544451\n",
      "Train Acc : 0.979, Loss : 0.14881955 | epoch : 2000, time : 00:04:25\n",
      "Test  Acc : 0.892, Loss : 0.80585148\n",
      "Train Acc : 0.979, Loss : 0.13928156 | epoch : 2100, time : 00:04:37\n",
      "Test  Acc : 0.893, Loss : 0.80907104\n",
      "Train Acc : 0.981, Loss : 0.12943579 | epoch : 2200, time : 00:04:49\n",
      "Test  Acc : 0.894, Loss : 0.82306891\n",
      "Train Acc : 0.983, Loss : 0.12350927 | epoch : 2300, time : 00:05:01\n",
      "Test  Acc : 0.894, Loss : 0.82083589\n",
      "Train Acc : 0.984, Loss : 0.11786362 | epoch : 2400, time : 00:05:13\n",
      "Test  Acc : 0.895, Loss : 0.82172363\n",
      "Train Acc : 0.985, Loss : 0.10849968 | epoch : 2500, time : 00:05:26\n",
      "Test  Acc : 0.897, Loss : 0.81640054\n",
      "Train Acc : 0.986, Loss : 0.10337678 | epoch : 2600, time : 00:05:38\n",
      "Test  Acc : 0.896, Loss : 0.81733652\n",
      "Train Acc : 0.987, Loss : 0.10005287 | epoch : 2700, time : 00:05:50\n",
      "Test  Acc : 0.895, Loss : 0.81005815\n",
      "Train Acc : 0.987, Loss : 0.09666510 | epoch : 2800, time : 00:06:02\n",
      "Test  Acc : 0.895, Loss : 0.81100631\n",
      "Train Acc : 0.987, Loss : 0.08933792 | epoch : 2900, time : 00:06:14\n",
      "Test  Acc : 0.896, Loss : 0.81862422\n",
      "Train Acc : 0.988, Loss : 0.08426140 | epoch : 3000, time : 00:06:27\n",
      "Test  Acc : 0.896, Loss : 0.81560447\n",
      "Train Acc : 0.988, Loss : 0.08045613 | epoch : 3100, time : 00:06:39\n",
      "Test  Acc : 0.895, Loss : 0.81600958\n",
      "Train Acc : 0.990, Loss : 0.07763361 | epoch : 3200, time : 00:06:51\n",
      "Test  Acc : 0.895, Loss : 0.81413654\n",
      "Train Acc : 0.990, Loss : 0.07460830 | epoch : 3300, time : 00:07:03\n",
      "Test  Acc : 0.896, Loss : 0.81341112\n",
      "Train Acc : 0.990, Loss : 0.07105016 | epoch : 3400, time : 00:07:15\n",
      "Test  Acc : 0.897, Loss : 0.81757514\n",
      "Train Acc : 0.991, Loss : 0.06897318 | epoch : 3500, time : 00:07:27\n",
      "Test  Acc : 0.898, Loss : 0.82097384\n",
      "Train Acc : 0.991, Loss : 0.06661845 | epoch : 3600, time : 00:07:40\n",
      "Test  Acc : 0.898, Loss : 0.82315327\n",
      "Train Acc : 0.992, Loss : 0.06491269 | epoch : 3700, time : 00:07:52\n",
      "Test  Acc : 0.898, Loss : 0.82525051\n",
      "Train Acc : 0.992, Loss : 0.06298842 | epoch : 3800, time : 00:08:04\n",
      "Test  Acc : 0.899, Loss : 0.82900107\n",
      "Train Acc : 0.992, Loss : 0.06018706 | epoch : 3900, time : 00:08:17\n",
      "Test  Acc : 0.900, Loss : 0.82364677\n",
      "Train Acc : 0.993, Loss : 0.05859806 | epoch : 4000, time : 00:08:29\n",
      "Test  Acc : 0.901, Loss : 0.83319185\n",
      "Train Acc : 0.993, Loss : 0.05711553 | epoch : 4100, time : 00:08:41\n",
      "Test  Acc : 0.900, Loss : 0.83713854\n",
      "Train Acc : 0.993, Loss : 0.05599799 | epoch : 4200, time : 00:08:53\n",
      "Test  Acc : 0.900, Loss : 0.83984528\n",
      "Train Acc : 0.993, Loss : 0.05479715 | epoch : 4300, time : 00:09:06\n",
      "Test  Acc : 0.899, Loss : 0.84438612\n",
      "Train Acc : 0.993, Loss : 0.05361054 | epoch : 4400, time : 00:09:18\n",
      "Test  Acc : 0.899, Loss : 0.84734332\n",
      "Loss is converged. epoch 4456\n",
      "Training Process Ended\n"
     ]
    }
   ],
   "source": [
    "\n",
    "\n",
    "# the random initial condition is applied to the model parameters following a normal distribution with mean 0 and standard deviation some number\n",
    "u = np.random.randn(196,785)\n",
    "v = np.random.randn(49,197)\n",
    "w = np.random.randn(10,50)\n",
    "\n",
    "epoch = 0\n",
    "train_image = list_image[:, :6000]\n",
    "train_label = list_label[:6000]\n",
    "test_image = list_image[:,6000:]\n",
    "test_label = list_label[6000:]\n",
    "\n",
    "train_label_vec = np.zeros((10, train_label.shape[0]))\n",
    "test_label_vec = np.zeros((10, test_label.shape[0]))\n",
    "for i, val in enumerate(train_label):\n",
    "    train_label_vec[val, i] = 1.0\n",
    "for i, val in enumerate(test_label):\n",
    "    test_label_vec[val, i] = 1.0\n",
    "\n",
    "\n",
    "list_epoch = []\n",
    "list_loss_train = []\n",
    "list_loss_test = []\n",
    "list_acc_train = []\n",
    "list_acc_test = []\n",
    "\n",
    "# Training Start\n",
    "print(\"-\"*10,\"Training Start\",'-'*10)\n",
    "\n",
    "result_train = {}\n",
    "result_test = {}\n",
    "\n",
    "\n",
    "lr = 1e-3\n",
    "loss_conv = 1e-5\n",
    "# Set Training Start time\n",
    "start_time = datetime.datetime.now()\n",
    "\n",
    "exit_count = 0\n",
    "while (True) :\n",
    "    epoch += 1\n",
    "    \n",
    "    ## Forward Propagation\n",
    "    \n",
    "    _x = np.ones((train_image.shape[0]+1, train_image.shape[1])) # add bia\n",
    "    _x[1:, :] = train_image\n",
    "    x = _x\n",
    "    \n",
    "    y_ = u.dot(x)\n",
    "    y = 1.0/(1.0 + np.exp(-y_))\n",
    "\n",
    "    _y = np.ones((y.shape[0] + 1, y.shape[1]))\n",
    "    _y[1:, :] = y\n",
    "    y = _y\n",
    "    z_ = v.dot(y)\n",
    "    z = 1.0/(1.0 + np.exp(-z_))\n",
    "\n",
    "    _z = np.ones((z.shape[0] + 1, z.shape[1]))\n",
    "    _z[1:, :] = z\n",
    "    z = _z\n",
    "    h_ = w.dot(z)\n",
    "    h = 1.0/(1.0 + np.exp(-h_))\n",
    "    \n",
    "    # Calculate Loss\n",
    "    loss_train = np.sum(-train_label_vec * (np.log(h)) - (1 - train_label_vec)* np.log(1 - h)) / len(h.T)\n",
    "\n",
    "    # Calculate Acc\n",
    "    predict_train = np.argmax(h, axis = 0)\n",
    "    correct_train = np.sum(train_label == predict_train, axis = 0)\n",
    "    acc_train = correct_train/len(train_label)\n",
    "\n",
    "    \n",
    "    # Back propagation\n",
    "    d_h = h - train_label_vec\n",
    "    _z = np.ones((z_.shape[0]+1, z_.shape[1]))\n",
    "    _z[1:, :] = z_\n",
    "    z_ = _z\n",
    "    d_z = w.T.dot(d_h) * sigmoid_grad(z_)\n",
    "    d_z = d_z[1:, :]\n",
    "\n",
    "    _y = np.ones((y_.shape[0]+1, y_.shape[1]))\n",
    "    _y[1:, :] = y_\n",
    "    y_ = _y\n",
    "    d_y = v.T.dot(d_z) * sigmoid_grad(y_)\n",
    "    d_y = d_y[1:, :]\n",
    "\n",
    "    # Save gradient desent values\n",
    "    grad_u = d_y.dot(x.T)\n",
    "    grad_v = d_z.dot(y.T)\n",
    "    grad_w = d_h.dot(z.T)\n",
    "\n",
    "    \n",
    "    # Testing  \n",
    "    ## Forward Propagation\n",
    "    _x = np.ones((test_image.shape[0]+1, test_image.shape[1])) # add bia\n",
    "    _x[1:, :] = test_image\n",
    "    x = _x\n",
    "    \n",
    "    y_ = u.dot(x)\n",
    "    y = 1.0/(1.0 + np.exp(-y_))\n",
    "\n",
    "    _y = np.ones((y.shape[0] + 1, y.shape[1]))\n",
    "    _y[1:, :] = y\n",
    "    y = _y\n",
    "    z_ = v.dot(y)\n",
    "    z = 1.0/(1.0 + np.exp(-z_))\n",
    "\n",
    "    _z = np.ones((z.shape[0] + 1, z.shape[1]))\n",
    "    _z[1:, :] = z\n",
    "    z = _z\n",
    "    h_ = w.dot(z)\n",
    "    h = 1.0/(1.0 + np.exp(-h_))\n",
    "    \n",
    "    # Calculate Testing Loss\n",
    "    loss_test = np.sum(-test_label_vec * (np.log(h)) - (1 - test_label_vec)* np.log(1 - h)) / len(h.T)\n",
    "\n",
    "    # Calculate Testing Acc\n",
    "    predict_test = np.argmax(h, axis = 0)\n",
    "    correct_test = np.sum(test_label == predict_test, axis = 0)\n",
    "    acc_test = correct_test/len(test_label)\n",
    "\n",
    "\n",
    "    # Update thetas\n",
    "    u -= lr*grad_u\n",
    "    v -= lr*grad_v\n",
    "    w -= lr*grad_w\n",
    "\n",
    "    # Add Log\n",
    "    list_epoch.append(epoch)\n",
    "    list_acc_train.append(acc_train)\n",
    "    list_loss_train.append(loss_train)\n",
    "    list_acc_test.append(acc_test)\n",
    "    list_loss_test.append(loss_test)\n",
    "    \n",
    "    if epoch % 100 == 0 :\n",
    "        running_time = get_running_time(start_time)\n",
    "        print(\"Train Acc : {:.3f}, Loss : {:.8f} | epoch : {}, time : {:02d}:{:02d}:{:02d}\\nTest  Acc : {:.3f}, Loss : {:.8f}\".\\\n",
    "              format(list_acc_train[-1],list_loss_train[-1],epoch,running_time[0],running_time[1],running_time[2],list_acc_test[-1],list_loss_test[-1]))\n",
    "    if epoch > 5 :\n",
    "        loss_gap = abs(list_loss_train[-1] - list_loss_train[-2])\n",
    "        \n",
    "        if loss_gap < loss_conv :\n",
    "            exit_count += 1\n",
    "        else :\n",
    "            exit_count = 0\n",
    "        if exit_count > 4 :\n",
    "            # Save result.\n",
    "            result_train[\"epoch\"] = list_epoch\n",
    "            result_train[\"loss\"] = list_loss_train\n",
    "            result_train[\"acc\"] = list_acc_train\n",
    "            result_train[\"theta\"] = [u,v,w]\n",
    "\n",
    "            result_test[\"epoch\"] = list_epoch\n",
    "            result_test[\"loss\"] = list_loss_test\n",
    "            result_test[\"acc\"] = list_acc_test\n",
    "\n",
    "            # Save Sample images\n",
    "            list_correct_image = []\n",
    "            list_correct_label = []\n",
    "            list_incorrect_image = []\n",
    "            list_incorrect_label = []\n",
    "            num_correct=0\n",
    "            num_incorrect=0\n",
    "\n",
    "            for i, correct in enumerate(test_label == predict_test) :\n",
    "                if (correct) :\n",
    "                    if num_correct < 10 :\n",
    "                        list_correct_image.append(test_image[:,i])\n",
    "                        list_correct_label.append([test_label[i]])\n",
    "                        num_correct += 1\n",
    "                else :\n",
    "                    if num_incorrect < 10 :\n",
    "                        list_incorrect_image.append(test_image[:,i])\n",
    "                        list_incorrect_label.append([predict_test[i]])\n",
    "                        num_incorrect += 1\n",
    "                if num_correct >= 10 and num_incorrect >= 10 :\n",
    "                    break\n",
    "            result_test[\"correct_image\"] = list_correct_image\n",
    "            result_test[\"correct_label\"] = list_correct_label\n",
    "            result_test[\"incorrect_image\"] = list_incorrect_image\n",
    "            result_test[\"incorrect_label\"] = list_incorrect_label\n",
    "\n",
    "            print(\"Loss is converged. epoch {}\".format(epoch))\n",
    "            print(\"Training Process Ended\")\n",
    "            break"
   ]
  },
  {
   "cell_type": "code",
   "execution_count": 35,
   "metadata": {},
   "outputs": [],
   "source": [
    "# list for show examples\n",
    "list_correct_image = np.array(result_test[\"correct_image\"]).T\n",
    "list_correct_label = result_test[\"correct_label\"]\n",
    "list_incorrect_image = np.array(result_test[\"incorrect_image\"]).T\n",
    "list_incorrect_label = result_test[\"incorrect_label\"]"
   ]
  },
  {
   "cell_type": "markdown",
   "metadata": {},
   "source": [
    "# Plot the loss curve"
   ]
  },
  {
   "cell_type": "code",
   "execution_count": 44,
   "metadata": {},
   "outputs": [
    {
     "data": {
      "text/plain": [
       "<matplotlib.legend.Legend at 0x7f91cf600550>"
      ]
     },
     "execution_count": 44,
     "metadata": {},
     "output_type": "execute_result"
    },
    {
     "data": {
      "image/png": "[encoded data removed]",
      "text/plain": [
       "<Figure size 432x288 with 1 Axes>"
      ]
     },
     "metadata": {
      "needs_background": "light"
     },
     "output_type": "display_data"
    }
   ],
   "source": [
    "plt.title(\"Loss curve\")\n",
    "plot_1, = plt.plot(result_train[\"epoch\"],result_train[\"loss\"], color='b',linewidth=2,alpha=0.8)\n",
    "plot_2, = plt.plot(result_test[\"epoch\"],result_test[\"loss\"], color='r',linewidth=2,alpha=0.8)\n",
    "plt.legend([plot_1,plot_2],[\"Training\",\"Testing\"])\n"
   ]
  },
  {
   "cell_type": "markdown",
   "metadata": {},
   "source": [
    "# Plot the accuracy curve"
   ]
  },
  {
   "cell_type": "code",
   "execution_count": 45,
   "metadata": {},
   "outputs": [
    {
     "data": {
      "text/plain": [
       "<matplotlib.legend.Legend at 0x7f91cee77320>"
      ]
     },
     "execution_count": 45,
     "metadata": {},
     "output_type": "execute_result"
    },
    {
     "data": {
      "image/png": "[encoded data removed]",
      "text/plain": [
       "<Figure size 432x288 with 1 Axes>"
      ]
     },
     "metadata": {
      "needs_background": "light"
     },
     "output_type": "display_data"
    }
   ],
   "source": [
    "plt.title(\"Accuracy curve\")\n",
    "plot_1, = plt.plot(result_train[\"epoch\"],result_train[\"acc\"], color='b',linewidth=2,alpha=0.8)\n",
    "plot_2, = plt.plot(result_test[\"epoch\"],result_test[\"acc\"], color='r',linewidth=2,alpha=0.8)\n",
    "plt.legend([plot_1,plot_2],[\"Training\",\"Testing\"])"
   ]
  },
  {
   "cell_type": "markdown",
   "metadata": {},
   "source": [
    "# Plot the accuracy value"
   ]
  },
  {
   "cell_type": "code",
   "execution_count": 42,
   "metadata": {},
   "outputs": [
    {
     "name": "stdout",
     "output_type": "stream",
     "text": [
      "Final Training Acc : 99.283%\n",
      "Final Testing Acc : 89.900%\n"
     ]
    }
   ],
   "source": [
    "print(\"Final Training Acc : {:.3f}%\\nFinal Testing Acc : {:.3f}%\".format(result_train[\"acc\"][-1]*100,result_test[\"acc\"][-1]*100))"
   ]
  },
  {
   "cell_type": "markdown",
   "metadata": {},
   "source": [
    "# Plot the classification example"
   ]
  },
  {
   "cell_type": "markdown",
   "metadata": {},
   "source": [
    "## Correctly classified testing images"
   ]
  },
  {
   "cell_type": "code",
   "execution_count": 47,
   "metadata": {},
   "outputs": [
    {
     "data": {
      "image/png": "[encoded data removed]",
      "text/plain": [
       "<Figure size 432x288 with 10 Axes>"
      ]
     },
     "metadata": {
      "needs_background": "light"
     },
     "output_type": "display_data"
    },
    {
     "name": "stdout",
     "output_type": "stream",
     "text": [
      "[[9], [8], [0], [8], [7], [7], [1], [3], [2], [3]]\n"
     ]
    }
   ],
   "source": [
    "show_example(list_correct_image,list_correct_label)\n",
    "print(list_correct_label)"
   ]
  },
  {
   "cell_type": "markdown",
   "metadata": {},
   "source": [
    "## misclassified testing images"
   ]
  },
  {
   "cell_type": "code",
   "execution_count": 39,
   "metadata": {},
   "outputs": [
    {
     "data": {
      "image/png": "[encoded data removed]",
      "text/plain": [
       "<Figure size 432x288 with 10 Axes>"
      ]
     },
     "metadata": {
      "needs_background": "light"
     },
     "output_type": "display_data"
    }
   ],
   "source": [
    "show_example(list_incorrect_image,list_incorrect_label)"
   ]
  }
 ],
 "metadata": {
  "kernelspec": {
   "display_name": "Python 3",
   "language": "python",
   "name": "python3"
  },
  "language_info": {
   "codemirror_mode": {
    "name": "ipython",
    "version": 3
   },
   "file_extension": ".py",
   "mimetype": "text/x-python",
   "name": "python",
   "nbconvert_exporter": "python",
   "pygments_lexer": "ipython3",
   "version": "3.6.9"
  }
 },
 "nbformat": 4,
 "nbformat_minor": 4
}

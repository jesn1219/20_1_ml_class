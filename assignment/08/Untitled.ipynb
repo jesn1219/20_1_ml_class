{
 "cells": [
  {
   "cell_type": "code",
   "execution_count": 95,
   "metadata": {},
   "outputs": [],
   "source": [
    "import matplotlib.pyplot as plt\n",
    "import numpy as np\n",
    "import torch\n",
    "import torchvision\n",
    "\n",
    "file_data   = \"mnist_test.csv\"\n",
    "handle_file = open(file_data, \"r\")\n",
    "data        = handle_file.readlines()\n",
    "handle_file.close()\n",
    "\n",
    "size_row    = 28    # height of the image\n",
    "size_col    = 28    # width of the image\n",
    "\n",
    "num_image   = len(data)\n",
    "count       = 0     # count for the number of images"
   ]
  },
  {
   "cell_type": "code",
   "execution_count": 104,
   "metadata": {},
   "outputs": [],
   "source": [
    "#\n",
    "# make a matrix each column of which represents an images in a vector form \n",
    "#\n",
    "list_image  = np.empty((size_row * size_col, num_image), dtype=float)\n",
    "list_label  = np.empty(num_image, dtype=int)\n",
    "count = 0\n",
    "\n",
    "for line in data:\n",
    "\n",
    "    line_data   = line.split(',')\n",
    "    label       = line_data[0]\n",
    "    im_vector   = np.asfarray(line_data[1:])\n",
    "\n",
    "    list_label[count]       = label\n",
    "    list_image[:, count]    = im_vector    \n",
    "    count += 1\n",
    "    \n",
    "avg_imgs = {}\n",
    "\n",
    "# Calculate the Average Image for Each Digit\n",
    "for i in range(0,10) :\n",
    "\n",
    "    list_label_image = list_image[:,list_label == i]\n",
    "    m = list_label_image.shape[1]\n",
    "    avg_image = list_label_image.mean(axis=1)\n",
    "    avg_imgs[i] = avg_image.reshape((size_row, size_col))\n",
    "    \n",
    "plt.show()\n",
    "    "
   ]
  },
  {
   "cell_type": "code",
   "execution_count": 105,
   "metadata": {},
   "outputs": [
    {
     "data": {
      "image/png": "[encoded data removed]",
      "text/plain": [
       "<Figure size 432x288 with 10 Axes>"
      ]
     },
     "metadata": {
      "needs_background": "light"
     },
     "output_type": "display_data"
    }
   ],
   "source": [
    "# Plot the Average Image for Each Digit\n",
    "for i in range(0,10) :\n",
    "    im_matrix = avg_imgs[i]\n",
    "    plt.subplot(1,10,i+1)\n",
    "    plt.title(i)\n",
    "    plt.imshow(im_matrix, cmap='Greys', interpolation='None')\n",
    "    frame   = plt.gca()\n",
    "    frame.axes.get_xaxis().set_visible(False)\n",
    "    frame.axes.get_yaxis().set_visible(False)\n",
    "    "
   ]
  },
  {
   "cell_type": "code",
   "execution_count": 111,
   "metadata": {},
   "outputs": [],
   "source": [
    "thetas = np.random.normal(0,1,size_row*size_col)\n",
    "\n",
    "size_layer_1 = 10\n",
    "\n",
    "thetas_to_layer_1 = torch.DoubleTensor(size_row*size_col,size_layer_1).normal_(0,1)\n",
    "thetas_to_output = torch.DoubleTensor(size_layer_2,1).normal_(0,1)\n",
    "\n",
    "avg_outputs = {}\n",
    "for i in range(0,10) :\n",
    "    \n",
    "    list_label_vector = list_image[:,list_label==i]\n",
    "    m = list_label_vector.shape[1]\n",
    "\n",
    "    data = torch.DoubleTensor(list_label_vector).T\n",
    "    y_layer_1 = torch.matmul(data,thetas_to_layer_1)\n",
    "    z_output = 1 /  (1+torch.exp(-y_layer_1))\n",
    "\n",
    "    avg_outputs[i] = z_output.mean()\n"
   ]
  },
  {
   "cell_type": "markdown",
   "metadata": {},
   "source": [
    "## 1. Plot the average image"
   ]
  },
  {
   "cell_type": "code",
   "execution_count": 117,
   "metadata": {},
   "outputs": [
    {
     "data": {
      "image/png": "[encoded data removed]",
      "text/plain": [
       "<Figure size 432x288 with 10 Axes>"
      ]
     },
     "metadata": {
      "needs_background": "light"
     },
     "output_type": "display_data"
    }
   ],
   "source": [
    "# Plot the Average Image for Each Digit\n",
    "for i in range(0,10) :\n",
    "    im_matrix = avg_imgs[i]\n",
    "    plt.subplot(1,10,i+1)\n",
    "    plt.title(i)\n",
    "    plt.imshow(im_matrix, cmap='Greys', interpolation='None')\n",
    "    frame   = plt.gca()\n",
    "    frame.axes.get_xaxis().set_visible(False)\n",
    "    frame.axes.get_yaxis().set_visible(False)"
   ]
  },
  {
   "cell_type": "markdown",
   "metadata": {},
   "source": [
    "## 2. Present the output of the neural network with random weights"
   ]
  },
  {
   "cell_type": "code",
   "execution_count": 118,
   "metadata": {},
   "outputs": [
    {
     "name": "stdout",
     "output_type": "stream",
     "text": [
      "Average Output on label 0 : 0.45268\n",
      "Average Output on label 1 : 0.45664\n",
      "Average Output on label 2 : 0.50030\n",
      "Average Output on label 3 : 0.43949\n",
      "Average Output on label 4 : 0.36725\n",
      "Average Output on label 5 : 0.41910\n",
      "Average Output on label 6 : 0.45794\n",
      "Average Output on label 7 : 0.43841\n",
      "Average Output on label 8 : 0.44824\n",
      "Average Output on label 9 : 0.39372\n"
     ]
    }
   ],
   "source": [
    "for i in range(0,10) :\n",
    "    print(\"Average Output on label {:d} : {:.5f}\".format(i,avg_outputs[i]))"
   ]
  }
 ],
 "metadata": {
  "kernelspec": {
   "display_name": "Python 3",
   "language": "python",
   "name": "python3"
  },
  "language_info": {
   "codemirror_mode": {
    "name": "ipython",
    "version": 3
   },
   "file_extension": ".py",
   "mimetype": "text/x-python",
   "name": "python",
   "nbconvert_exporter": "python",
   "pygments_lexer": "ipython3",
   "version": "3.6.9"
  }
 },
 "nbformat": 4,
 "nbformat_minor": 4
}

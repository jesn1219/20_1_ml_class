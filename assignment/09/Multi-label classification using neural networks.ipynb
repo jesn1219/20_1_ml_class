{
 "cells": [
  {
   "cell_type": "markdown",
   "metadata": {},
   "source": [
    "* Writer : Jesoon Kang, Chung-Ang University\n",
    "* last-modified date : May 28, 2020"
   ]
  },
  {
   "cell_type": "code",
   "execution_count": 2,
   "metadata": {},
   "outputs": [],
   "source": [
    "import matplotlib.pyplot as plt\n",
    "import numpy as np\n",
    "import torch\n",
    "import torchvision\n",
    "import math\n",
    "from IPython.display import display, Math, Latex\n",
    "import os\n",
    "import time\n",
    "import datetime\n",
    "\n",
    "\n",
    "file_data   = \"mnist.csv\"\n",
    "handle_file = open(file_data, \"r\")\n",
    "data        = handle_file.readlines()\n",
    "handle_file.close()\n",
    "\n",
    "size_row    = 28    # height of the image\n",
    "size_col    = 28    # width of the image\n",
    "\n",
    "num_image   = len(data)\n",
    "count       = 0     # count for the number of images"
   ]
  },
  {
   "cell_type": "code",
   "execution_count": 3,
   "metadata": {},
   "outputs": [],
   "source": [
    "#\n",
    "# normalize the values of the input data to be [0, 1]\n",
    "#\n",
    "def normalize(data):\n",
    "\n",
    "    data_normalized = (data - min(data)) / (max(data) - min(data))\n",
    "\n",
    "    return(data_normalized)"
   ]
  },
  {
   "cell_type": "code",
   "execution_count": 4,
   "metadata": {},
   "outputs": [],
   "source": [
    "#\n",
    "# example of distance function between two vectors x and y\n",
    "#\n",
    "def distance(x, y):\n",
    "\n",
    "    d = (x - y) ** 2\n",
    "    s = np.sum(d)\n",
    "    # r = np.sqrt(s)\n",
    "\n",
    "    return(s)"
   ]
  },
  {
   "cell_type": "code",
   "execution_count": 5,
   "metadata": {},
   "outputs": [],
   "source": [
    "#\n",
    "# make a matrix each column of which represents an images in a vector form\n",
    "#\n",
    "list_image  = np.empty((size_row * size_col, num_image), dtype=float)\n",
    "list_label  = np.empty(num_image, dtype=int)\n",
    "\n",
    "for line in data:\n",
    "\n",
    "    line_data   = line.split(',')\n",
    "    label       = line_data[0]\n",
    "    im_vector   = np.asfarray(line_data[1:])\n",
    "    im_vector   = normalize(im_vector)\n",
    "\n",
    "    list_label[count]       = label\n",
    "    list_image[:, count]    = im_vector\n",
    "\n",
    "    count += 1\n"
   ]
  },
  {
   "cell_type": "code",
   "execution_count": 6,
   "metadata": {},
   "outputs": [],
   "source": [
    "def sigmoid_grad(z):\n",
    "    sig_value =  1.0 / (1.0 + np.exp(-z))\n",
    "    return sig_value * (1 - sig_value)"
   ]
  },
  {
   "cell_type": "code",
   "execution_count": 7,
   "metadata": {},
   "outputs": [],
   "source": [
    "def show_example(list_image,list_label) :\n",
    "    f1 = plt.figure(1)\n",
    "    \n",
    "    for i in range(10):\n",
    "        label       = list_label[i]\n",
    "        im_vector   = list_image[:, i]\n",
    "        im_matrix   = im_vector.reshape((size_row, size_col))\n",
    "\n",
    "        plt.subplot(2, 5, i+1)\n",
    "        plt.title(label)\n",
    "        plt.imshow(im_matrix, cmap='Greys', interpolation='None')\n",
    "\n",
    "        frame   = plt.gca()\n",
    "        frame.axes.get_xaxis().set_visible(False)\n",
    "        frame.axes.get_yaxis().set_visible(False)\n",
    "    plt.show()    "
   ]
  },
  {
   "cell_type": "code",
   "execution_count": 8,
   "metadata": {},
   "outputs": [],
   "source": [
    "def get_running_time(start_time) :\n",
    "    running_time = datetime.datetime.now() - start_time\n",
    "    running_time = running_time.seconds\n",
    "    hours, remainder = divmod(running_time, 3600)\n",
    "    minutes, seconds = divmod(remainder, 60)\n",
    "    return hours, minutes, seconds"
   ]
  },
  {
   "cell_type": "code",
   "execution_count": 10,
   "metadata": {
    "scrolled": true
   },
   "outputs": [
    {
     "name": "stdout",
     "output_type": "stream",
     "text": [
      "---------- Training Start ----------\n",
      "Train Acc : 0.114, Loss : 20.26638836 | epoch : 100, time : 00:00:12\n",
      "Test  Acc : 0.112, Loss : 20.42371008\n",
      "Train Acc : 0.100, Loss : 23.88239669 | epoch : 200, time : 00:00:24\n",
      "Test  Acc : 0.096, Loss : 24.19143034\n",
      "Train Acc : 0.276, Loss : 7.58697534 | epoch : 300, time : 00:00:36\n",
      "Test  Acc : 0.264, Loss : 7.60730633\n",
      "Train Acc : 0.291, Loss : 7.61850339 | epoch : 400, time : 00:00:48\n",
      "Test  Acc : 0.279, Loss : 7.84785208\n",
      "Train Acc : 0.320, Loss : 6.13933359 | epoch : 500, time : 00:01:00\n",
      "Test  Acc : 0.315, Loss : 6.00493588\n",
      "Train Acc : 0.284, Loss : 7.76640972 | epoch : 600, time : 00:01:12\n",
      "Test  Acc : 0.285, Loss : 7.70836998\n",
      "Train Acc : 0.439, Loss : 5.27094416 | epoch : 700, time : 00:01:24\n",
      "Test  Acc : 0.434, Loss : 5.46523472\n",
      "Train Acc : 0.464, Loss : 8.54135738 | epoch : 800, time : 00:01:36\n",
      "Test  Acc : 0.459, Loss : 8.76813020\n"
     ]
    },
    {
     "ename": "KeyboardInterrupt",
     "evalue": "",
     "output_type": "error",
     "traceback": [
      "\u001b[0;31m---------------------------------------------------------------------------\u001b[0m",
      "\u001b[0;31mKeyboardInterrupt\u001b[0m                         Traceback (most recent call last)",
      "\u001b[0;32m<ipython-input-10-8da7755f2d45>\u001b[0m in \u001b[0;36m<module>\u001b[0;34m\u001b[0m\n\u001b[1;32m     42\u001b[0m     \u001b[0;31m## Forward Propagation\u001b[0m\u001b[0;34m\u001b[0m\u001b[0;34m\u001b[0m\u001b[0;34m\u001b[0m\u001b[0m\n\u001b[1;32m     43\u001b[0m \u001b[0;34m\u001b[0m\u001b[0m\n\u001b[0;32m---> 44\u001b[0;31m     \u001b[0m_x\u001b[0m \u001b[0;34m=\u001b[0m \u001b[0mnp\u001b[0m\u001b[0;34m.\u001b[0m\u001b[0mones\u001b[0m\u001b[0;34m(\u001b[0m\u001b[0;34m(\u001b[0m\u001b[0mtrain_image\u001b[0m\u001b[0;34m.\u001b[0m\u001b[0mshape\u001b[0m\u001b[0;34m[\u001b[0m\u001b[0;36m0\u001b[0m\u001b[0;34m]\u001b[0m\u001b[0;34m+\u001b[0m\u001b[0;36m1\u001b[0m\u001b[0;34m,\u001b[0m \u001b[0mtrain_image\u001b[0m\u001b[0;34m.\u001b[0m\u001b[0mshape\u001b[0m\u001b[0;34m[\u001b[0m\u001b[0;36m1\u001b[0m\u001b[0;34m]\u001b[0m\u001b[0;34m)\u001b[0m\u001b[0;34m)\u001b[0m \u001b[0;31m# add bia\u001b[0m\u001b[0;34m\u001b[0m\u001b[0;34m\u001b[0m\u001b[0m\n\u001b[0m\u001b[1;32m     45\u001b[0m     \u001b[0m_x\u001b[0m\u001b[0;34m[\u001b[0m\u001b[0;36m1\u001b[0m\u001b[0;34m:\u001b[0m\u001b[0;34m,\u001b[0m \u001b[0;34m:\u001b[0m\u001b[0;34m]\u001b[0m \u001b[0;34m=\u001b[0m \u001b[0mtrain_image\u001b[0m\u001b[0;34m\u001b[0m\u001b[0;34m\u001b[0m\u001b[0m\n\u001b[1;32m     46\u001b[0m     \u001b[0;31m#train_bias\u001b[0m\u001b[0;34m\u001b[0m\u001b[0;34m\u001b[0m\u001b[0;34m\u001b[0m\u001b[0m\n",
      "\u001b[0;32m/usr/local/lib/python3.6/dist-packages/numpy/core/numeric.py\u001b[0m in \u001b[0;36mones\u001b[0;34m(shape, dtype, order)\u001b[0m\n\u001b[1;32m    213\u001b[0m     \"\"\"\n\u001b[1;32m    214\u001b[0m     \u001b[0ma\u001b[0m \u001b[0;34m=\u001b[0m \u001b[0mempty\u001b[0m\u001b[0;34m(\u001b[0m\u001b[0mshape\u001b[0m\u001b[0;34m,\u001b[0m \u001b[0mdtype\u001b[0m\u001b[0;34m,\u001b[0m \u001b[0morder\u001b[0m\u001b[0;34m)\u001b[0m\u001b[0;34m\u001b[0m\u001b[0;34m\u001b[0m\u001b[0m\n\u001b[0;32m--> 215\u001b[0;31m     \u001b[0mmultiarray\u001b[0m\u001b[0;34m.\u001b[0m\u001b[0mcopyto\u001b[0m\u001b[0;34m(\u001b[0m\u001b[0ma\u001b[0m\u001b[0;34m,\u001b[0m \u001b[0;36m1\u001b[0m\u001b[0;34m,\u001b[0m \u001b[0mcasting\u001b[0m\u001b[0;34m=\u001b[0m\u001b[0;34m'unsafe'\u001b[0m\u001b[0;34m)\u001b[0m\u001b[0;34m\u001b[0m\u001b[0;34m\u001b[0m\u001b[0m\n\u001b[0m\u001b[1;32m    216\u001b[0m     \u001b[0;32mreturn\u001b[0m \u001b[0ma\u001b[0m\u001b[0;34m\u001b[0m\u001b[0;34m\u001b[0m\u001b[0m\n\u001b[1;32m    217\u001b[0m \u001b[0;34m\u001b[0m\u001b[0m\n",
      "\u001b[0;32m<__array_function__ internals>\u001b[0m in \u001b[0;36mcopyto\u001b[0;34m(*args, **kwargs)\u001b[0m\n",
      "\u001b[0;31mKeyboardInterrupt\u001b[0m: "
     ]
    }
   ],
   "source": [
    "\n",
    "\n",
    "# the random initial condition is applied to the model parameters following a normal distribution with mean 0 and standard deviation some number\n",
    "u = np.random.randn(196,785)\n",
    "v = np.random.randn(49,197)\n",
    "w = np.random.randn(10,50)\n",
    "\n",
    "epoch = 0\n",
    "train_image = list_image[:, :6000]\n",
    "train_label = list_label[:6000]\n",
    "test_image = list_image[:,6000:]\n",
    "test_label = list_label[6000:]\n",
    "\n",
    "train_label_vec = np.zeros((10, train_label.shape[0]))\n",
    "test_label_vec = np.zeros((10, test_label.shape[0]))\n",
    "for i, val in enumerate(train_label):\n",
    "    train_label_vec[val, i] = 1.0\n",
    "for i, val in enumerate(test_label):\n",
    "    test_label_vec[val, i] = 1.0\n",
    "\n",
    "\n",
    "list_epoch = []\n",
    "list_loss_train = []\n",
    "list_loss_test = []\n",
    "list_acc_train = []\n",
    "list_acc_test = []\n",
    "\n",
    "# Training Start\n",
    "print(\"-\"*10,\"Training Start\",'-'*10)\n",
    "\n",
    "result_train = {}\n",
    "result_test = {}\n",
    "\n",
    "\n",
    "lr = 1e-3\n",
    "loss_conv = 1e-7\n",
    "# Set Training Start time\n",
    "start_time = datetime.datetime.now()\n",
    "\n",
    "exit_count = 0\n",
    "while (True) :\n",
    "    epoch += 1\n",
    "    \n",
    "    ## Forward Propagation\n",
    "    \n",
    "    _x = np.ones((train_image.shape[0]+1, train_image.shape[1])) # add bia\n",
    "    _x[1:, :] = train_image\n",
    "    #train_bias\n",
    "    x = _x\n",
    "    #y_2\n",
    "    y_ = u.dot(x)\n",
    "    #a_2\n",
    "    y = 1.0/(1.0 + np.exp(-y_))\n",
    "    \n",
    "    #a_2_with_bias\n",
    "    _y = np.ones((y.shape[0] + 1, y.shape[1]))\n",
    "    _y[1:, :] = y\n",
    "    y = _y\n",
    "    \n",
    "    #y_3\n",
    "    z_ = v.dot(y)\n",
    "    #a_3\n",
    "    z = 1.0/(1.0 + np.exp(-z_))\n",
    "    #a_3_with_bias\n",
    "    _z = np.ones((z.shape[0] + 1, z.shape[1]))\n",
    "    _z[1:, :] = z\n",
    "    z = _z\n",
    "\n",
    "    # y_4\n",
    "    h_ = w.dot(z)\n",
    "    # a_4\n",
    "    h = 1.0/(1.0 + np.exp(-h_))\n",
    "    \n",
    "    # Calculate Loss\n",
    "    loss_train = np.sum(-train_label_vec * (np.log(h)) - (1 - train_label_vec)* np.log(1 - h)) / len(h.T)\n",
    "\n",
    "    # Calculate Acc\n",
    "    predict_train = np.argmax(h, axis = 0)\n",
    "    correct_train = np.sum(train_label == predict_train, axis = 0)\n",
    "    acc_train = correct_train/len(train_label)\n",
    "\n",
    "    \n",
    "    # Back propagation\n",
    "    d_h = h - train_label_vec\n",
    "    _z = np.ones((z_.shape[0]+1, z_.shape[1]))\n",
    "    _z[1:, :] = z_\n",
    "    z_ = _z\n",
    "    d_z = w.T.dot(d_h) * sigmoid_grad(z_)\n",
    "    d_z = d_z[1:, :]\n",
    "\n",
    "    _y = np.ones((y_.shape[0]+1, y_.shape[1]))\n",
    "    _y[1:, :] = y_\n",
    "    y_ = _y\n",
    "    d_y = v.T.dot(d_z) * sigmoid_grad(y_)\n",
    "    d_y = d_y[1:, :]\n",
    "\n",
    "    # Save gradient desent values\n",
    "    grad_u = d_y.dot(x.T)\n",
    "    grad_v = d_z.dot(y.T)\n",
    "    grad_w = d_h.dot(z.T)\n",
    "\n",
    "    \n",
    "    # Testing  \n",
    "    ## Forward Propagation\n",
    "    _x = np.ones((test_image.shape[0]+1, test_image.shape[1])) # add bia\n",
    "    _x[1:, :] = test_image\n",
    "    x = _x\n",
    "    \n",
    "    y_ = u.dot(x)\n",
    "    y = 1.0/(1.0 + np.exp(-y_))\n",
    "\n",
    "    _y = np.ones((y.shape[0] + 1, y.shape[1]))\n",
    "    _y[1:, :] = y\n",
    "    y = _y\n",
    "    z_ = v.dot(y)\n",
    "    z = 1.0/(1.0 + np.exp(-z_))\n",
    "\n",
    "    _z = np.ones((z.shape[0] + 1, z.shape[1]))\n",
    "    _z[1:, :] = z\n",
    "    z = _z\n",
    "    h_ = w.dot(z)\n",
    "    h = 1.0/(1.0 + np.exp(-h_))\n",
    "    \n",
    "    # Calculate Testing Loss\n",
    "    loss_test = np.sum(-test_label_vec * (np.log(h)) - (1 - test_label_vec)* np.log(1 - h)) / len(h.T)\n",
    "\n",
    "    # Calculate Testing Acc\n",
    "    predict_test = np.argmax(h, axis = 0)\n",
    "    correct_test = np.sum(test_label == predict_test, axis = 0)\n",
    "    acc_test = correct_test/len(test_label)\n",
    "\n",
    "\n",
    "    # Update thetas\n",
    "    u -= lr*grad_u\n",
    "    v -= lr*grad_v\n",
    "    w -= lr*grad_w\n",
    "\n",
    "    # Add Log\n",
    "    list_epoch.append(epoch)\n",
    "    list_acc_train.append(acc_train)\n",
    "    list_loss_train.append(loss_train)\n",
    "    list_acc_test.append(acc_test)\n",
    "    list_loss_test.append(loss_test)\n",
    "    if epoch % 100 == 0 :\n",
    "        running_time = get_running_time(start_time)\n",
    "        print(\"Train Acc : {:.3f}, Loss : {:.8f} | epoch : {}, time : {:02d}:{:02d}:{:02d}\\nTest  Acc : {:.3f}, Loss : {:.8f}\".\\\n",
    "              format(list_acc_train[-1],list_loss_train[-1],epoch,running_time[0],running_time[1],running_time[2],list_acc_test[-1],list_loss_test[-1]))\n",
    "    if epoch > 5 :\n",
    "        loss_gap = abs(list_loss_train[-1] - list_loss_train[-2])\n",
    "        \n",
    "        if loss_gap < loss_conv :\n",
    "            exit_count += 1\n",
    "        else :\n",
    "            exit_count = 0\n",
    "        if exit_count > 4 :\n",
    "            # Save result.\n",
    "            result_train[\"epoch\"] = list_epoch\n",
    "            result_train[\"loss\"] = list_loss_train\n",
    "            result_train[\"acc\"] = list_acc_train\n",
    "            result_train[\"theta\"] = [u,v,w]\n",
    "\n",
    "            result_test[\"epoch\"] = list_epoch\n",
    "            result_test[\"loss\"] = list_loss_test\n",
    "            result_test[\"acc\"] = list_acc_test\n",
    "\n",
    "            # Save Sample images\n",
    "            list_correct_image = []\n",
    "            list_correct_label = []\n",
    "            list_incorrect_image = []\n",
    "            list_incorrect_label = []\n",
    "            num_correct=0\n",
    "            num_incorrect=0\n",
    "\n",
    "            for i, correct in enumerate(test_label == predict_test) :\n",
    "                if (correct) :\n",
    "                    if num_correct < 10 :\n",
    "                        list_correct_image.append(test_image[:,i])\n",
    "                        list_correct_label.append([test_label[i]])\n",
    "                        num_correct += 1\n",
    "                else :\n",
    "                    if num_incorrect < 10 :\n",
    "                        list_incorrect_image.append(test_image[:,i])\n",
    "                        list_incorrect_label.append([predict_test[i]])\n",
    "                        num_incorrect += 1\n",
    "                if num_correct >= 10 and num_incorrect >= 10 :\n",
    "                    break\n",
    "            result_test[\"correct_image\"] = list_correct_image\n",
    "            result_test[\"correct_label\"] = list_correct_label\n",
    "            result_test[\"incorrect_image\"] = list_incorrect_image\n",
    "            result_test[\"incorrect_label\"] = list_incorrect_label\n",
    "\n",
    "            print(\"Loss is converged. epoch {}\".format(epoch))\n",
    "            print(\"Training Process Ended\")\n",
    "            break"
   ]
  },
  {
   "cell_type": "code",
   "execution_count": 15,
   "metadata": {},
   "outputs": [],
   "source": [
    "# list for show examples\n",
    "list_correct_image = np.array(result_test[\"correct_image\"]).T\n",
    "list_correct_label = result_test[\"correct_label\"]\n",
    "list_incorrect_image = np.array(result_test[\"incorrect_image\"]).T\n",
    "list_incorrect_label = result_test[\"incorrect_label\"]"
   ]
  },
  {
   "cell_type": "markdown",
   "metadata": {},
   "source": [
    "# Plot the loss curve"
   ]
  },
  {
   "cell_type": "code",
   "execution_count": 16,
   "metadata": {},
   "outputs": [
    {
     "data": {
      "text/plain": [
       "<matplotlib.legend.Legend at 0x7fa060d9f400>"
      ]
     },
     "execution_count": 16,
     "metadata": {},
     "output_type": "execute_result"
    },
    {
     "data": {
      "image/png": "[encoded data removed]",
      "text/plain": [
       "<Figure size 432x288 with 1 Axes>"
      ]
     },
     "metadata": {
      "needs_background": "light"
     },
     "output_type": "display_data"
    }
   ],
   "source": [
    "plt.title(\"Loss curve\")\n",
    "plot_1, = plt.plot(result_train[\"epoch\"],result_train[\"loss\"], color='b',linewidth=2,alpha=0.8)\n",
    "plot_2, = plt.plot(result_test[\"epoch\"],result_test[\"loss\"], color='r',linewidth=2,alpha=0.8)\n",
    "plt.legend([plot_1,plot_2],[\"Training\",\"Testing\"])\n"
   ]
  },
  {
   "cell_type": "markdown",
   "metadata": {},
   "source": [
    "# Plot the accuracy curve"
   ]
  },
  {
   "cell_type": "code",
   "execution_count": 17,
   "metadata": {},
   "outputs": [
    {
     "data": {
      "text/plain": [
       "<matplotlib.legend.Legend at 0x7fa060d90518>"
      ]
     },
     "execution_count": 17,
     "metadata": {},
     "output_type": "execute_result"
    },
    {
     "data": {
      "image/png": "[encoded data removed]",
      "text/plain": [
       "<Figure size 432x288 with 1 Axes>"
      ]
     },
     "metadata": {
      "needs_background": "light"
     },
     "output_type": "display_data"
    }
   ],
   "source": [
    "plt.title(\"Accuracy curve\")\n",
    "plot_1, = plt.plot(result_train[\"epoch\"],result_train[\"acc\"], color='b',linewidth=2,alpha=0.8)\n",
    "plot_2, = plt.plot(result_test[\"epoch\"],result_test[\"acc\"], color='r',linewidth=2,alpha=0.8)\n",
    "plt.legend([plot_1,plot_2],[\"Training\",\"Testing\"])"
   ]
  },
  {
   "cell_type": "markdown",
   "metadata": {},
   "source": [
    "# Plot the accuracy value"
   ]
  },
  {
   "cell_type": "code",
   "execution_count": 12,
   "metadata": {},
   "outputs": [
    {
     "name": "stdout",
     "output_type": "stream",
     "text": [
      "Final Training Acc : 99.983%\n",
      "Final Testing Acc : 88.500%\n"
     ]
    }
   ],
   "source": [
    "print(\"Final Training Acc : {:.3f}%\\nFinal Testing Acc : {:.3f}%\".format(result_train[\"acc\"][-1]*100,result_test[\"acc\"][-1]*100))"
   ]
  },
  {
   "cell_type": "markdown",
   "metadata": {},
   "source": [
    "# Plot the classification example"
   ]
  },
  {
   "cell_type": "markdown",
   "metadata": {},
   "source": [
    "## Correctly classified testing images"
   ]
  },
  {
   "cell_type": "code",
   "execution_count": 18,
   "metadata": {},
   "outputs": [
    {
     "data": {
      "image/png": "[encoded data removed]",
      "text/plain": [
       "<Figure size 432x288 with 10 Axes>"
      ]
     },
     "metadata": {
      "needs_background": "light"
     },
     "output_type": "display_data"
    },
    {
     "name": "stdout",
     "output_type": "stream",
     "text": [
      "[[9], [8], [6], [0], [7], [7], [1], [3], [2], [3]]\n"
     ]
    }
   ],
   "source": [
    "show_example(list_correct_image,list_correct_label)\n",
    "print(list_correct_label)"
   ]
  },
  {
   "cell_type": "markdown",
   "metadata": {},
   "source": [
    "## Misclassified testing images"
   ]
  },
  {
   "cell_type": "code",
   "execution_count": 19,
   "metadata": {},
   "outputs": [
    {
     "data": {
      "image/png": "[encoded data removed]",
      "text/plain": [
       "<Figure size 432x288 with 10 Axes>"
      ]
     },
     "metadata": {
      "needs_background": "light"
     },
     "output_type": "display_data"
    }
   ],
   "source": [
    "show_example(list_incorrect_image,list_incorrect_label)"
   ]
  }
 ],
 "metadata": {
  "kernelspec": {
   "display_name": "Python 3",
   "language": "python",
   "name": "python3"
  },
  "language_info": {
   "codemirror_mode": {
    "name": "ipython",
    "version": 3
   },
   "file_extension": ".py",
   "mimetype": "text/x-python",
   "name": "python",
   "nbconvert_exporter": "python",
   "pygments_lexer": "ipython3",
   "version": "3.6.9"
  }
 },
 "nbformat": 4,
 "nbformat_minor": 4
}

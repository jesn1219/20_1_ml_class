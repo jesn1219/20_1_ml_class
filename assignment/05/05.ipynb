{
 "cells": [
  {
   "cell_type": "code",
   "execution_count": 1,
   "metadata": {},
   "outputs": [],
   "source": [
    "# Writer : JESOON KANG, Dept. of Computer Science & Engineering in Chung-Ang University\n",
    "# Last-Modified Date : April 17,2020"
   ]
  },
  {
   "cell_type": "code",
   "execution_count": 2,
   "metadata": {},
   "outputs": [],
   "source": [
    "import matplotlib.pyplot as plt\n",
    "import math\n",
    "import numpy as np\n",
    "import random\n",
    "import torch\n",
    "from torch.utils.data import Dataset, DataLoader\n",
    "import torchvision.transforms as transforms\n",
    "import torchvision\n",
    "import os\n",
    "from random import *"
   ]
  },
  {
   "cell_type": "code",
   "execution_count": 3,
   "metadata": {},
   "outputs": [
    {
     "name": "stdout",
     "output_type": "stream",
     "text": [
      "Using device: cuda\n",
      "\n",
      "GeForce RTX 2060 SUPER\n",
      "Memory Usage:\n",
      "Allocated: 0.0 GB\n",
      "Cached:    0.0 GB\n"
     ]
    }
   ],
   "source": [
    "### Setting up Device\n",
    "device = torch.device('cuda' if torch.cuda.is_available() else 'cpu')\n",
    "# Below codes activates when want to use cpu\n",
    "#device = torch.device('cpu')\n",
    "print('Using device:', device)\n",
    "print()\n",
    "\n",
    "#Additional Info when using cuda\n",
    "if device.type == 'cuda':\n",
    "    print(torch.cuda.get_device_name(0))\n",
    "    print('Memory Usage:')\n",
    "    print('Allocated:', round(torch.cuda.memory_allocated(0)/1024**3,1), 'GB')\n",
    "    print('Cached:   ', round(torch.cuda.memory_cached(0)/1024**3,1), 'GB')"
   ]
  },
  {
   "cell_type": "code",
   "execution_count": 4,
   "metadata": {},
   "outputs": [
    {
     "data": {
      "image/png": "[encoded data removed]",
      "text/plain": [
       "<Figure size 576x576 with 1 Axes>"
      ]
     },
     "metadata": {
      "needs_background": "light"
     },
     "output_type": "display_data"
    }
   ],
   "source": [
    "# Plot the training data\n",
    "import numpy as np\n",
    "import matplotlib.pyplot as plt\n",
    "\n",
    "data    = np.genfromtxt(\"data.txt\", delimiter=',')\n",
    "\n",
    "x       = data[:, 0]\n",
    "y       = data[:, 1]\n",
    "label   = data[:, 2]\n",
    "\n",
    "x_label0    = x[label == 0]\n",
    "x_label1    = x[label == 1]\n",
    "\n",
    "y_label0    = y[label == 0]\n",
    "y_label1    = y[label == 1]\n",
    "\n",
    "plt.figure(figsize=(8, 8))\n",
    "plt.scatter(x_label0, y_label0, alpha=0.9, c='b')\n",
    "plt.scatter(x_label1, y_label1, alpha=0.9, c='r')\n",
    "plt.show()"
   ]
  },
  {
   "cell_type": "code",
   "execution_count": 5,
   "metadata": {},
   "outputs": [],
   "source": [
    "x = torch.FloatTensor(x).to('cuda')\n",
    "y = torch.FloatTensor(y).to('cuda')\n",
    "label = torch.FloatTensor(label).to('cuda')\n",
    "\n",
    "x_label0 = torch.FloatTensor(x_label0).to('cuda')\n",
    "x_label1 = torch.FloatTensor(x_label1).to('cuda')\n",
    "\n",
    "y_label0 = torch.FloatTensor(y_label0).to('cuda')\n",
    "y_label1 = torch.FloatTensor(y_label1).to('cuda')\n"
   ]
  },
  {
   "cell_type": "code",
   "execution_count": 6,
   "metadata": {},
   "outputs": [
    {
     "name": "stdout",
     "output_type": "stream",
     "text": [
      "epoch 1000, th0 -16.02173, th1 0.13325, th2 0.127533, loss 0.2214662880, acc 0.890\n",
      "epoch 2000, th0 -16.02746, th1 0.13330, th2 0.127580, loss 0.2214388251, acc 0.890\n",
      "epoch 3000, th0 -16.03318, th1 0.13334, th2 0.127626, loss 0.2214113921, acc 0.890\n",
      "epoch 4000, th0 -16.03890, th1 0.13339, th2 0.127672, loss 0.2213840038, acc 0.890\n",
      "epoch 5000, th0 -16.04462, th1 0.13343, th2 0.127718, loss 0.2213566154, acc 0.890\n",
      "epoch 6000, th0 -16.05034, th1 0.13348, th2 0.127764, loss 0.2213293165, acc 0.890\n",
      "epoch 7000, th0 -16.05607, th1 0.13352, th2 0.127811, loss 0.2213019878, acc 0.890\n",
      "epoch 8000, th0 -16.06012, th1 0.13356, th2 0.127843, loss 0.2212826908, acc 0.890\n",
      "Loss is converged\n",
      "epoch 8126, th0 -16.06060, th1 0.13356, th2 0.127847, loss 0.2212804407, acc 0.890\n"
     ]
    }
   ],
   "source": [
    "# Initialize thetas \n",
    "th0 = torch.FloatTensor([-16.0]).to('cuda')\n",
    "th1 = torch.FloatTensor([1.0]).to('cuda')\n",
    "th2 = torch.FloatTensor([1.0]).to('cuda')\n",
    "\n",
    "def sigmoid(z) :\n",
    "    return torch.reciprocal(torch.sum(1 + torch.exp(z)))\n",
    "\n",
    "# Setting Step-size. (Learning-rate)\n",
    "lr = 0.001\n",
    "\n",
    "# Setting converge value\n",
    "loss_conv = 1e-8 # loss converge standard\n",
    "\n",
    "# Lists for logging\n",
    "loss_log = []\n",
    "th0_log = []\n",
    "th1_log = []\n",
    "th2_log = []\n",
    "epoch_log = []\n",
    "conv_count = 0 # Variable To count converge\n",
    "epoch = 0 # Inital epoch value\n",
    "\n",
    "test_loss_log = []\n",
    "\n",
    "\n",
    "while (True) :\n",
    "    epoch +=1\n",
    "    epoch_log.append(epoch)\n",
    "    \n",
    "    ## Training \n",
    "    # Get Train yh\n",
    "    z = th0 + th1*x + th2*y\n",
    "    activ = 1 / (1+torch.exp(-z))\n",
    "    \n",
    "    m = len(activ)\n",
    "    \n",
    "    # Get Loss \n",
    "    loss = (1/m) * torch.sum( \\\n",
    "                             -label*torch.log(activ) - (1-label)*torch.log(1 - activ) )\n",
    "    \n",
    "    \n",
    "    # Logging\n",
    "    loss_log.append(loss)\n",
    "    th0_log.append(th0)\n",
    "    th1_log.append(th1)\n",
    "    th2_log.append(th2)\n",
    "    \n",
    "    \n",
    "    # Updating Parameters - Gradient Descent\n",
    "    th0 = th0 - lr * (1/m) * torch.sum(activ - label)\n",
    "    th1 = th1 - lr * (1/m) * torch.sum((activ-label)*x)\n",
    "    th2 = th2 - lr * (1/m) * torch.sum((activ-label)*y)\n",
    "    \n",
    "    \n",
    "    ## Does Train Loss Converged?\n",
    "    if len(loss_log) > 2 :\n",
    "        if abs(loss_log[-1] - loss_log[-2]) < loss_conv :\n",
    "            conv_count += 1\n",
    "        else :\n",
    "            conv_count = 0\n",
    "    \n",
    "    # For monitor\n",
    "    \n",
    "    if epoch %1000 == 0 :\n",
    "        acc = 0\n",
    "        for i in range(0,len(activ)) :\n",
    "            if activ[i] >= 0.5 :\n",
    "                if label[i] == 1 :\n",
    "                    acc += 1\n",
    "            else :\n",
    "                if label[i] == 0 :\n",
    "                    acc += 1\n",
    "        acc = acc / len(activ)\n",
    "        print(\"epoch {}, th0 {:.5f}, th1 {:.5f}, th2 {:5f}, loss {:.10f}, acc {:.3f}\".\\\n",
    "              format(epoch,th0.item(),th1.item(),th2.item(),loss_log[-1],acc) )\n",
    "     \n",
    "    ## Escape if Training loss is converged\n",
    "    if conv_count > 3 :\n",
    "        print(\"Loss is converged\")\n",
    "        print(\"epoch {}, th0 {:.5f}, th1 {:.5f}, th2 {:5f}, loss {:.10f}, acc {:.3f}\".\\\n",
    "              format(epoch,th0.item(),th1.item(),th2.item(),loss_log[-1],acc))                 \n",
    "        break\n",
    "\n"
   ]
  },
  {
   "cell_type": "code",
   "execution_count": 7,
   "metadata": {},
   "outputs": [
    {
     "data": {
      "image/png": "[encoded data removed]",
      "text/plain": [
       "<Figure size 720x432 with 1 Axes>"
      ]
     },
     "metadata": {
      "needs_background": "light"
     },
     "output_type": "display_data"
    },
    {
     "name": "stdout",
     "output_type": "stream",
     "text": [
      "th0: -16.060592651367188 \n",
      "th1: 0.1335608959197998 \n",
      "th2: 0.1278471052646637\n"
     ]
    }
   ],
   "source": [
    "# 2. Plot the estimated parameters using the training dataset\n",
    "\n",
    "plt.figure(figsize=(10, 6))\n",
    "plot0, = plt.plot(epoch_log,th0_log, color='red',linewidth= 2,alpha=0.9)\n",
    "plot1, = plt.plot(epoch_log,th1_log, color='green',linewidth= 2,alpha=0.9)\n",
    "plot2, = plt.plot(epoch_log,th2_log, color='blue',linewidth= 2,alpha=0.9)\n",
    "\n",
    "plt.title(\"Estimated Parameters\") \n",
    "plt.legend([plot0,plot1,plot2],[\"theta0\",\"theta1\",'theta2'])\n",
    "\n",
    "plt.show()\n",
    "\n",
    "\n",
    "print(\"th0:\",th0_log[-1].item(),\"\\nth1:\",th1_log[-1].item(),\"\\nth2:\",th2_log[-1].item())"
   ]
  },
  {
   "cell_type": "code",
   "execution_count": 8,
   "metadata": {},
   "outputs": [
    {
     "name": "stdout",
     "output_type": "stream",
     "text": [
      "Converged Training loss : 0.22128\n"
     ]
    },
    {
     "data": {
      "image/png": "[encoded data removed]",
      "text/plain": [
       "<Figure size 432x288 with 1 Axes>"
      ]
     },
     "metadata": {
      "needs_background": "light"
     },
     "output_type": "display_data"
    }
   ],
   "source": [
    "# 3. Plot the training error using the training dataset\n",
    "plt.title(\"Training error\")\n",
    "plot, = plt.plot(epoch_log,loss_log, color='blue',linewidth=2,alpha=0.8)\n",
    "plt.legend([plot],[\"Trainging error\"])\n",
    "print(\"Converged Training loss : {:.5f}\".format(loss_log[-1].item()))"
   ]
  },
  {
   "cell_type": "code",
   "execution_count": 63,
   "metadata": {
    "scrolled": false
   },
   "outputs": [
    {
     "name": "stdout",
     "output_type": "stream",
     "text": [
      "torch.Size([141])\n"
     ]
    }
   ],
   "source": [
    "import collections\n",
    "\n",
    "Point = collections.namedtuple('Point',['x','y'])\n",
    "#datas = [Point(x,y) for x,y in zip(x_data,y_data)]\n",
    "\n",
    "th0 = th0_log[-1]\n",
    "th1 = th1_log[-1]\n",
    "th2 = th2_log[-1]\n",
    "\n",
    "# Get -30:30:0.1 tensor\n",
    "xs = torch.linspace(start=30,end=100,steps=141,device='cuda')\n",
    "ys = torch.linspace(start=30,end=100,steps=141,device='cuda')\n",
    "print(xs.shape)\n",
    "\n",
    "ACTIVS = []\n",
    "\n",
    "for x in xs.cpu().numpy() :\n",
    "    for y in ys.cpu().numpy():\n",
    "        z = th0 + th1*x + th2*y\n",
    "        activ = 1 / (1 + torch.exp(z))\n",
    "        if activ >= 0.5 :\n",
    "            ACTIVS.append([x,y,'red', activ])\n",
    "        else :\n",
    "            ACTIVS.append([x,y,'blue', activ])\n",
    "\n"
   ]
  }
 ],
 "metadata": {
  "kernelspec": {
   "display_name": "Python 3",
   "language": "python",
   "name": "python3"
  },
  "language_info": {
   "codemirror_mode": {
    "name": "ipython",
    "version": 3
   },
   "file_extension": ".py",
   "mimetype": "text/x-python",
   "name": "python",
   "nbconvert_exporter": "python",
   "pygments_lexer": "ipython3",
   "version": "3.6.9"
  }
 },
 "nbformat": 4,
 "nbformat_minor": 4
}
